{
 "cells": [
  {
   "cell_type": "markdown",
   "metadata": {},
   "source": [
    "### Import libraries"
   ]
  },
  {
   "cell_type": "code",
   "execution_count": 151,
   "metadata": {},
   "outputs": [],
   "source": [
    "import pandas as pd\n",
    "import numpy as np\n",
    "import seaborn as sns\n",
    "from matplotlib import pyplot as plt\n",
    "from utils.data_utils import connect_to_db"
   ]
  },
  {
   "cell_type": "markdown",
   "metadata": {},
   "source": [
    "### Connect to Database"
   ]
  },
  {
   "cell_type": "code",
   "execution_count": 284,
   "metadata": {},
   "outputs": [
    {
     "name": "stderr",
     "output_type": "stream",
     "text": [
      "INFO:root:SQL engine is created.\n",
      "INFO:root:2 tables found inside database viabill.db\n"
     ]
    },
    {
     "name": "stdout",
     "output_type": "stream",
     "text": [
      "Available tables: ['customers', 'transactions']\n"
     ]
    }
   ],
   "source": [
    "engine, inspector, tables_in_db = connect_to_db()\n",
    "print(f\"Available tables: {tables_in_db}\")"
   ]
  },
  {
   "cell_type": "markdown",
   "metadata": {},
   "source": [
    "### Load extension for SQL queries"
   ]
  },
  {
   "cell_type": "code",
   "execution_count": 3,
   "metadata": {},
   "outputs": [],
   "source": [
    "%load_ext sql"
   ]
  },
  {
   "cell_type": "code",
   "execution_count": 4,
   "metadata": {},
   "outputs": [],
   "source": [
    "%sql sqlite:///data/viabill.db"
   ]
  },
  {
   "cell_type": "markdown",
   "metadata": {},
   "source": [
    "### Make sure we can query tables with SQL"
   ]
  },
  {
   "cell_type": "code",
   "execution_count": 5,
   "metadata": {},
   "outputs": [
    {
     "name": "stdout",
     "output_type": "stream",
     "text": [
      " * sqlite:///data/viabill.db\n",
      "Done.\n"
     ]
    },
    {
     "data": {
      "text/html": [
       "<table>\n",
       "    <tr>\n",
       "        <th>customerID</th>\n",
       "        <th>sex</th>\n",
       "        <th>age</th>\n",
       "        <th>residentialAddress</th>\n",
       "        <th>postalAddress</th>\n",
       "        <th>income</th>\n",
       "    </tr>\n",
       "    <tr>\n",
       "        <td>1</td>\n",
       "        <td>1</td>\n",
       "        <td>25</td>\n",
       "        <td>28 Irvine Place</td>\n",
       "        <td>28 Irvine Place</td>\n",
       "        <td>None</td>\n",
       "    </tr>\n",
       "    <tr>\n",
       "        <td>2</td>\n",
       "        <td>1</td>\n",
       "        <td>19</td>\n",
       "        <td>72 Bertha Street</td>\n",
       "        <td>72 Bertha Street</td>\n",
       "        <td>43200</td>\n",
       "    </tr>\n",
       "    <tr>\n",
       "        <td>3</td>\n",
       "        <td>2</td>\n",
       "        <td>22</td>\n",
       "        <td>63 Ladberry Street</td>\n",
       "        <td>63 Ladberry Street</td>\n",
       "        <td>70200</td>\n",
       "    </tr>\n",
       "    <tr>\n",
       "        <td>4</td>\n",
       "        <td>0</td>\n",
       "        <td>24</td>\n",
       "        <td>98 Linneman Close</td>\n",
       "        <td>98 Linneman Close</td>\n",
       "        <td>93900</td>\n",
       "    </tr>\n",
       "    <tr>\n",
       "        <td>5</td>\n",
       "        <td>1</td>\n",
       "        <td>53</td>\n",
       "        <td>56 Salonica Road</td>\n",
       "        <td>56 Salonica Road</td>\n",
       "        <td>77000</td>\n",
       "    </tr>\n",
       "</table>"
      ],
      "text/plain": [
       "[(1, 1, 25, '28 Irvine Place', '28 Irvine Place', None),\n",
       " (2, 1, 19, '72 Bertha Street', '72 Bertha Street', 43200),\n",
       " (3, 2, 22, '63 Ladberry Street', '63 Ladberry Street', 70200),\n",
       " (4, 0, 24, '98 Linneman Close', '98 Linneman Close', 93900),\n",
       " (5, 1, 53, '56 Salonica Road', '56 Salonica Road', 77000)]"
      ]
     },
     "execution_count": 5,
     "metadata": {},
     "output_type": "execute_result"
    }
   ],
   "source": [
    "%%sql\n",
    "SELECT * FROM customers\n",
    "LIMIT 5"
   ]
  },
  {
   "cell_type": "code",
   "execution_count": 6,
   "metadata": {},
   "outputs": [
    {
     "name": "stdout",
     "output_type": "stream",
     "text": [
      " * sqlite:///data/viabill.db\n",
      "Done.\n"
     ]
    },
    {
     "data": {
      "text/html": [
       "<table>\n",
       "    <tr>\n",
       "        <th>count(*)</th>\n",
       "        <th>count(distinct customerID)</th>\n",
       "    </tr>\n",
       "    <tr>\n",
       "        <td>500000</td>\n",
       "        <td>500000</td>\n",
       "    </tr>\n",
       "</table>"
      ],
      "text/plain": [
       "[(500000, 500000)]"
      ]
     },
     "execution_count": 6,
     "metadata": {},
     "output_type": "execute_result"
    }
   ],
   "source": [
    "%%sql\n",
    "SELECT count(*), count(distinct customerID) FROM customers"
   ]
  },
  {
   "cell_type": "code",
   "execution_count": 7,
   "metadata": {},
   "outputs": [
    {
     "name": "stdout",
     "output_type": "stream",
     "text": [
      " * sqlite:///data/viabill.db\n",
      "Done.\n"
     ]
    },
    {
     "data": {
      "text/html": [
       "<table>\n",
       "    <tr>\n",
       "        <th>transactionID</th>\n",
       "        <th>shopID</th>\n",
       "        <th>customerID</th>\n",
       "        <th>price</th>\n",
       "        <th>paytmentStatus1</th>\n",
       "        <th>paytmentStatus2</th>\n",
       "        <th>paytmentStatus3</th>\n",
       "        <th>paytmentStatus4</th>\n",
       "    </tr>\n",
       "    <tr>\n",
       "        <td>1</td>\n",
       "        <td>114</td>\n",
       "        <td>2869</td>\n",
       "        <td>140</td>\n",
       "        <td>0</td>\n",
       "        <td>0</td>\n",
       "        <td>0</td>\n",
       "        <td>0</td>\n",
       "    </tr>\n",
       "    <tr>\n",
       "        <td>2</td>\n",
       "        <td>855</td>\n",
       "        <td>124077</td>\n",
       "        <td>70</td>\n",
       "        <td>0</td>\n",
       "        <td>0</td>\n",
       "        <td>0</td>\n",
       "        <td>0</td>\n",
       "    </tr>\n",
       "    <tr>\n",
       "        <td>3</td>\n",
       "        <td>752</td>\n",
       "        <td>86184</td>\n",
       "        <td>85</td>\n",
       "        <td>0</td>\n",
       "        <td>0</td>\n",
       "        <td>0</td>\n",
       "        <td>0</td>\n",
       "    </tr>\n",
       "    <tr>\n",
       "        <td>4</td>\n",
       "        <td>246</td>\n",
       "        <td>248861</td>\n",
       "        <td>43</td>\n",
       "        <td>1</td>\n",
       "        <td>0</td>\n",
       "        <td>0</td>\n",
       "        <td>0</td>\n",
       "    </tr>\n",
       "    <tr>\n",
       "        <td>5</td>\n",
       "        <td>973</td>\n",
       "        <td>162112</td>\n",
       "        <td>127</td>\n",
       "        <td>0</td>\n",
       "        <td>0</td>\n",
       "        <td>0</td>\n",
       "        <td>0</td>\n",
       "    </tr>\n",
       "</table>"
      ],
      "text/plain": [
       "[(1, 114, 2869, 140, 0, 0, 0, 0),\n",
       " (2, 855, 124077, 70, 0, 0, 0, 0),\n",
       " (3, 752, 86184, 85, 0, 0, 0, 0),\n",
       " (4, 246, 248861, 43, 1, 0, 0, 0),\n",
       " (5, 973, 162112, 127, 0, 0, 0, 0)]"
      ]
     },
     "execution_count": 7,
     "metadata": {},
     "output_type": "execute_result"
    }
   ],
   "source": [
    "%%sql\n",
    "SELECT * FROM transactions\n",
    "LIMIT 5"
   ]
  },
  {
   "cell_type": "code",
   "execution_count": 70,
   "metadata": {},
   "outputs": [
    {
     "name": "stdout",
     "output_type": "stream",
     "text": [
      " * sqlite:///data/viabill.db\n",
      "Done.\n"
     ]
    },
    {
     "data": {
      "text/html": [
       "<table>\n",
       "    <tr>\n",
       "        <th>count(*)</th>\n",
       "        <th>count(distinct transactionID)</th>\n",
       "    </tr>\n",
       "    <tr>\n",
       "        <td>2000000</td>\n",
       "        <td>2000000</td>\n",
       "    </tr>\n",
       "</table>"
      ],
      "text/plain": [
       "[(2000000, 2000000)]"
      ]
     },
     "execution_count": 70,
     "metadata": {},
     "output_type": "execute_result"
    }
   ],
   "source": [
    "%%sql\n",
    "SELECT count(*), count(distinct transactionID) FROM transactions"
   ]
  },
  {
   "cell_type": "markdown",
   "metadata": {},
   "source": [
    "### Task 1 and 2"
   ]
  },
  {
   "cell_type": "markdown",
   "metadata": {},
   "source": [
    "**1.Select transactions that you use as credit applications (write SQL query):**\n",
    "    \n",
    "a. select the last transaction (transactionID increases with time) for each customer in Transaction table <br>\n",
    "b. join result from previous point with customer Income - if Income is Missing replace it with -999 value\n",
    "\n",
    "**2.Create a new feature based on transaction data - using Python or/and SQL:**\n",
    "\n",
    "a. create “trans_price_avg_lst3” – for credit applications (transactions selected in point 1)\n",
    "calculate a value that present an average price of 3 previous transactions"
   ]
  },
  {
   "cell_type": "code",
   "execution_count": 21,
   "metadata": {},
   "outputs": [
    {
     "name": "stdout",
     "output_type": "stream",
     "text": [
      " * sqlite:///data/viabill.db\n",
      "Done.\n"
     ]
    },
    {
     "data": {
      "text/html": [
       "<table>\n",
       "    <tr>\n",
       "        <th>transactionID</th>\n",
       "        <th>shopID</th>\n",
       "        <th>customerID</th>\n",
       "        <th>price</th>\n",
       "        <th>paytmentStatus1</th>\n",
       "        <th>paytmentStatus2</th>\n",
       "        <th>paytmentStatus3</th>\n",
       "        <th>paytmentStatus4</th>\n",
       "        <th>trans_price_avg_lst3</th>\n",
       "        <th>income</th>\n",
       "    </tr>\n",
       "    <tr>\n",
       "        <td>1697842</td>\n",
       "        <td>248</td>\n",
       "        <td>1</td>\n",
       "        <td>147</td>\n",
       "        <td>0</td>\n",
       "        <td>0</td>\n",
       "        <td>0</td>\n",
       "        <td>0</td>\n",
       "        <td>119.33333333333333</td>\n",
       "        <td>-999</td>\n",
       "    </tr>\n",
       "    <tr>\n",
       "        <td>1834257</td>\n",
       "        <td>392</td>\n",
       "        <td>2</td>\n",
       "        <td>150</td>\n",
       "        <td>0</td>\n",
       "        <td>0</td>\n",
       "        <td>0</td>\n",
       "        <td>0</td>\n",
       "        <td>98.33333333333333</td>\n",
       "        <td>43200</td>\n",
       "    </tr>\n",
       "    <tr>\n",
       "        <td>1974624</td>\n",
       "        <td>396</td>\n",
       "        <td>3</td>\n",
       "        <td>140</td>\n",
       "        <td>0</td>\n",
       "        <td>0</td>\n",
       "        <td>0</td>\n",
       "        <td>0</td>\n",
       "        <td>114.33333333333333</td>\n",
       "        <td>70200</td>\n",
       "    </tr>\n",
       "    <tr>\n",
       "        <td>1536291</td>\n",
       "        <td>544</td>\n",
       "        <td>4</td>\n",
       "        <td>136</td>\n",
       "        <td>0</td>\n",
       "        <td>1</td>\n",
       "        <td>0</td>\n",
       "        <td>0</td>\n",
       "        <td>None</td>\n",
       "        <td>93900</td>\n",
       "    </tr>\n",
       "    <tr>\n",
       "        <td>661121</td>\n",
       "        <td>984</td>\n",
       "        <td>5</td>\n",
       "        <td>181</td>\n",
       "        <td>0</td>\n",
       "        <td>0</td>\n",
       "        <td>0</td>\n",
       "        <td>0</td>\n",
       "        <td>64.33333333333333</td>\n",
       "        <td>77000</td>\n",
       "    </tr>\n",
       "    <tr>\n",
       "        <td>1964705</td>\n",
       "        <td>533</td>\n",
       "        <td>6</td>\n",
       "        <td>33</td>\n",
       "        <td>0</td>\n",
       "        <td>0</td>\n",
       "        <td>0</td>\n",
       "        <td>0</td>\n",
       "        <td>190.0</td>\n",
       "        <td>77500</td>\n",
       "    </tr>\n",
       "    <tr>\n",
       "        <td>313094</td>\n",
       "        <td>759</td>\n",
       "        <td>7</td>\n",
       "        <td>195</td>\n",
       "        <td>0</td>\n",
       "        <td>0</td>\n",
       "        <td>0</td>\n",
       "        <td>0</td>\n",
       "        <td>None</td>\n",
       "        <td>13600</td>\n",
       "    </tr>\n",
       "    <tr>\n",
       "        <td>1848871</td>\n",
       "        <td>123</td>\n",
       "        <td>9</td>\n",
       "        <td>31</td>\n",
       "        <td>0</td>\n",
       "        <td>0</td>\n",
       "        <td>0</td>\n",
       "        <td>0</td>\n",
       "        <td>105.5</td>\n",
       "        <td>2700</td>\n",
       "    </tr>\n",
       "    <tr>\n",
       "        <td>1854937</td>\n",
       "        <td>461</td>\n",
       "        <td>10</td>\n",
       "        <td>5</td>\n",
       "        <td>0</td>\n",
       "        <td>0</td>\n",
       "        <td>0</td>\n",
       "        <td>2</td>\n",
       "        <td>90.33333333333333</td>\n",
       "        <td>80000</td>\n",
       "    </tr>\n",
       "    <tr>\n",
       "        <td>696173</td>\n",
       "        <td>447</td>\n",
       "        <td>11</td>\n",
       "        <td>42</td>\n",
       "        <td>0</td>\n",
       "        <td>0</td>\n",
       "        <td>0</td>\n",
       "        <td>0</td>\n",
       "        <td>133.5</td>\n",
       "        <td>57000</td>\n",
       "    </tr>\n",
       "</table>"
      ],
      "text/plain": [
       "[(1697842, 248, 1, 147, 0, 0, 0, 0, 119.33333333333333, -999),\n",
       " (1834257, 392, 2, 150, 0, 0, 0, 0, 98.33333333333333, 43200),\n",
       " (1974624, 396, 3, 140, 0, 0, 0, 0, 114.33333333333333, 70200),\n",
       " (1536291, 544, 4, 136, 0, 1, 0, 0, None, 93900),\n",
       " (661121, 984, 5, 181, 0, 0, 0, 0, 64.33333333333333, 77000),\n",
       " (1964705, 533, 6, 33, 0, 0, 0, 0, 190.0, 77500),\n",
       " (313094, 759, 7, 195, 0, 0, 0, 0, None, 13600),\n",
       " (1848871, 123, 9, 31, 0, 0, 0, 0, 105.5, 2700),\n",
       " (1854937, 461, 10, 5, 0, 0, 0, 2, 90.33333333333333, 80000),\n",
       " (696173, 447, 11, 42, 0, 0, 0, 0, 133.5, 57000)]"
      ]
     },
     "execution_count": 21,
     "metadata": {},
     "output_type": "execute_result"
    }
   ],
   "source": [
    "%%sql\n",
    "WITH last_transaction as (\n",
    "        SELECT customerID, max(transactionID) as last_transactionID\n",
    "        FROM transactions\n",
    "        GROUP BY customerID\n",
    "),\n",
    "\n",
    "last_three_transactions as (\n",
    "        SELECT t.*, avg(price) OVER (PARTITION BY t.customerID ORDER BY transactionID ROWS BETWEEN 3 PRECEDING AND 1 PRECEDING) as trans_price_avg_lst3\n",
    "        FROM transactions t\n",
    ")\n",
    "\n",
    "SELECT  t.*, \n",
    "        CASE WHEN cust.income is null then -999 else cust.income end as income\n",
    "        \n",
    "FROM last_three_transactions t\n",
    "INNER JOIN last_transaction lt\n",
    "    ON t.customerID = lt.customerID AND t.transactionID = lt.last_transactionID\n",
    "INNER JOIN customers cust\n",
    "    ON t.customerID = cust.customerID\n",
    "ORDER BY t.customerID\n",
    "LIMIT 10"
   ]
  },
  {
   "cell_type": "markdown",
   "metadata": {},
   "source": [
    "*NOTE:* Both tasks were done in one query. Notice, that `trans_price_avg_lst3` may contain None values, which means that for this customerIDs the last transaction is actually the  first one. That's why we can not calculate average value of three previous transactions, as there are no such. Additional suggestion may be to round values to 2 decimals."
   ]
  },
  {
   "cell_type": "markdown",
   "metadata": {},
   "source": [
    "### Task 3"
   ]
  },
  {
   "cell_type": "markdown",
   "metadata": {},
   "source": [
    "Check if there is a dependency between age and sex in the data – use statistical test if applicable."
   ]
  },
  {
   "cell_type": "markdown",
   "metadata": {},
   "source": [
    "To check the dependancy between two variables we may check correlation between them and in our case plot a distribution of `Age` depending on `Sex`. For simplicity I'll read `customers` table with Pandas."
   ]
  },
  {
   "cell_type": "code",
   "execution_count": 27,
   "metadata": {},
   "outputs": [
    {
     "name": "stdout",
     "output_type": "stream",
     "text": [
      "(500000, 6)\n"
     ]
    },
    {
     "data": {
      "text/html": [
       "<div>\n",
       "<style scoped>\n",
       "    .dataframe tbody tr th:only-of-type {\n",
       "        vertical-align: middle;\n",
       "    }\n",
       "\n",
       "    .dataframe tbody tr th {\n",
       "        vertical-align: top;\n",
       "    }\n",
       "\n",
       "    .dataframe thead th {\n",
       "        text-align: right;\n",
       "    }\n",
       "</style>\n",
       "<table border=\"1\" class=\"dataframe\">\n",
       "  <thead>\n",
       "    <tr style=\"text-align: right;\">\n",
       "      <th></th>\n",
       "      <th>customerID</th>\n",
       "      <th>sex</th>\n",
       "      <th>age</th>\n",
       "      <th>residentialAddress</th>\n",
       "      <th>postalAddress</th>\n",
       "      <th>income</th>\n",
       "    </tr>\n",
       "  </thead>\n",
       "  <tbody>\n",
       "    <tr>\n",
       "      <th>0</th>\n",
       "      <td>1</td>\n",
       "      <td>1</td>\n",
       "      <td>25</td>\n",
       "      <td>28 Irvine Place</td>\n",
       "      <td>28 Irvine Place</td>\n",
       "      <td>NaN</td>\n",
       "    </tr>\n",
       "    <tr>\n",
       "      <th>1</th>\n",
       "      <td>2</td>\n",
       "      <td>1</td>\n",
       "      <td>19</td>\n",
       "      <td>72 Bertha Street</td>\n",
       "      <td>72 Bertha Street</td>\n",
       "      <td>43200.0</td>\n",
       "    </tr>\n",
       "    <tr>\n",
       "      <th>2</th>\n",
       "      <td>3</td>\n",
       "      <td>2</td>\n",
       "      <td>22</td>\n",
       "      <td>63 Ladberry Street</td>\n",
       "      <td>63 Ladberry Street</td>\n",
       "      <td>70200.0</td>\n",
       "    </tr>\n",
       "  </tbody>\n",
       "</table>\n",
       "</div>"
      ],
      "text/plain": [
       "   customerID  sex  age  residentialAddress       postalAddress   income\n",
       "0           1    1   25     28 Irvine Place     28 Irvine Place      NaN\n",
       "1           2    1   19    72 Bertha Street    72 Bertha Street  43200.0\n",
       "2           3    2   22  63 Ladberry Street  63 Ladberry Street  70200.0"
      ]
     },
     "execution_count": 27,
     "metadata": {},
     "output_type": "execute_result"
    }
   ],
   "source": [
    "customers = pd.read_sql_table(\"customers\", con=engine)\n",
    "print(customers.shape)\n",
    "customers.head(3)"
   ]
  },
  {
   "cell_type": "code",
   "execution_count": 29,
   "metadata": {},
   "outputs": [
    {
     "data": {
      "text/plain": [
       "customerID              int64\n",
       "sex                     int64\n",
       "age                     int64\n",
       "residentialAddress     object\n",
       "postalAddress          object\n",
       "income                float64\n",
       "dtype: object"
      ]
     },
     "execution_count": 29,
     "metadata": {},
     "output_type": "execute_result"
    }
   ],
   "source": [
    "# fast data types check\n",
    "customers.dtypes"
   ]
  },
  {
   "cell_type": "code",
   "execution_count": 30,
   "metadata": {},
   "outputs": [
    {
     "data": {
      "text/plain": [
       "customerID               0\n",
       "sex                      0\n",
       "age                      0\n",
       "residentialAddress       0\n",
       "postalAddress            0\n",
       "income                9975\n",
       "dtype: int64"
      ]
     },
     "execution_count": 30,
     "metadata": {},
     "output_type": "execute_result"
    }
   ],
   "source": [
    "# fast missing check\n",
    "customers.isnull().sum()"
   ]
  },
  {
   "cell_type": "code",
   "execution_count": 32,
   "metadata": {},
   "outputs": [
    {
     "data": {
      "text/html": [
       "<div>\n",
       "<style scoped>\n",
       "    .dataframe tbody tr th:only-of-type {\n",
       "        vertical-align: middle;\n",
       "    }\n",
       "\n",
       "    .dataframe tbody tr th {\n",
       "        vertical-align: top;\n",
       "    }\n",
       "\n",
       "    .dataframe thead th {\n",
       "        text-align: right;\n",
       "    }\n",
       "</style>\n",
       "<table border=\"1\" class=\"dataframe\">\n",
       "  <thead>\n",
       "    <tr style=\"text-align: right;\">\n",
       "      <th></th>\n",
       "      <th>age</th>\n",
       "      <th>sex</th>\n",
       "    </tr>\n",
       "  </thead>\n",
       "  <tbody>\n",
       "    <tr>\n",
       "      <th>count</th>\n",
       "      <td>500000.000000</td>\n",
       "      <td>500000.000000</td>\n",
       "    </tr>\n",
       "    <tr>\n",
       "      <th>mean</th>\n",
       "      <td>44.630508</td>\n",
       "      <td>1.150402</td>\n",
       "    </tr>\n",
       "    <tr>\n",
       "      <th>std</th>\n",
       "      <td>16.178283</td>\n",
       "      <td>0.477797</td>\n",
       "    </tr>\n",
       "    <tr>\n",
       "      <th>min</th>\n",
       "      <td>5.000000</td>\n",
       "      <td>0.000000</td>\n",
       "    </tr>\n",
       "    <tr>\n",
       "      <th>25%</th>\n",
       "      <td>27.000000</td>\n",
       "      <td>1.000000</td>\n",
       "    </tr>\n",
       "    <tr>\n",
       "      <th>50%</th>\n",
       "      <td>50.000000</td>\n",
       "      <td>1.000000</td>\n",
       "    </tr>\n",
       "    <tr>\n",
       "      <th>75%</th>\n",
       "      <td>58.000000</td>\n",
       "      <td>1.000000</td>\n",
       "    </tr>\n",
       "    <tr>\n",
       "      <th>max</th>\n",
       "      <td>90.000000</td>\n",
       "      <td>2.000000</td>\n",
       "    </tr>\n",
       "  </tbody>\n",
       "</table>\n",
       "</div>"
      ],
      "text/plain": [
       "                 age            sex\n",
       "count  500000.000000  500000.000000\n",
       "mean       44.630508       1.150402\n",
       "std        16.178283       0.477797\n",
       "min         5.000000       0.000000\n",
       "25%        27.000000       1.000000\n",
       "50%        50.000000       1.000000\n",
       "75%        58.000000       1.000000\n",
       "max        90.000000       2.000000"
      ]
     },
     "execution_count": 32,
     "metadata": {},
     "output_type": "execute_result"
    }
   ],
   "source": [
    "# basic stats\n",
    "customers[[\"age\", \"sex\"]].describe()"
   ]
  },
  {
   "cell_type": "markdown",
   "metadata": {},
   "source": [
    "Correlation seems to be not high."
   ]
  },
  {
   "cell_type": "code",
   "execution_count": 33,
   "metadata": {},
   "outputs": [
    {
     "data": {
      "text/html": [
       "<div>\n",
       "<style scoped>\n",
       "    .dataframe tbody tr th:only-of-type {\n",
       "        vertical-align: middle;\n",
       "    }\n",
       "\n",
       "    .dataframe tbody tr th {\n",
       "        vertical-align: top;\n",
       "    }\n",
       "\n",
       "    .dataframe thead th {\n",
       "        text-align: right;\n",
       "    }\n",
       "</style>\n",
       "<table border=\"1\" class=\"dataframe\">\n",
       "  <thead>\n",
       "    <tr style=\"text-align: right;\">\n",
       "      <th></th>\n",
       "      <th>age</th>\n",
       "      <th>sex</th>\n",
       "    </tr>\n",
       "  </thead>\n",
       "  <tbody>\n",
       "    <tr>\n",
       "      <th>age</th>\n",
       "      <td>1.000000</td>\n",
       "      <td>0.001564</td>\n",
       "    </tr>\n",
       "    <tr>\n",
       "      <th>sex</th>\n",
       "      <td>0.001564</td>\n",
       "      <td>1.000000</td>\n",
       "    </tr>\n",
       "  </tbody>\n",
       "</table>\n",
       "</div>"
      ],
      "text/plain": [
       "          age       sex\n",
       "age  1.000000  0.001564\n",
       "sex  0.001564  1.000000"
      ]
     },
     "execution_count": 33,
     "metadata": {},
     "output_type": "execute_result"
    }
   ],
   "source": [
    "customers[[\"age\", \"sex\"]].corr(method=\"spearman\")"
   ]
  },
  {
   "cell_type": "markdown",
   "metadata": {},
   "source": [
    "As we may see the distribution of `Age` for different `Sex` levels is almost the same. So, **seems like there is no dependancy between age and sex in the data.** But, worth noticing, there is some strange gap sowhere in between 20 and 60 years old. For some reason people of average age tend to not use ViaBill services."
   ]
  },
  {
   "cell_type": "code",
   "execution_count": 61,
   "metadata": {},
   "outputs": [
    {
     "data": {
      "image/png": "[encoded data removed]",
      "text/plain": [
       "<Figure size 558.875x500 with 1 Axes>"
      ]
     },
     "metadata": {},
     "output_type": "display_data"
    }
   ],
   "source": [
    "sns.displot(customers, x=\"age\", hue=\"sex\", kind=\"kde\", common_norm=False, palette=sns.color_palette(\"bright\", 3));"
   ]
  },
  {
   "cell_type": "markdown",
   "metadata": {},
   "source": [
    "### Task 4"
   ]
  },
  {
   "cell_type": "markdown",
   "metadata": {},
   "source": [
    "We want to send adequate marketing communication to customer – propose customers segments that we could use when we want to send emails with offers."
   ]
  },
  {
   "cell_type": "markdown",
   "metadata": {},
   "source": [
    "The task seems to be not very precise. What does it mean adequate marketing communication? What is a content of this offer? What is assumed target group of this capmpaign? Is it for young people or maybe for elder ones? Maybe we want to attract more clients to our partnering stores in beauty industry, so maybe we should target women? Seems like we need to make some assumptions. I propose some general brainstorming points, which may emphasize some important factors which may be considered during segmentation, depending on our business goal.<br>\n",
    "\n",
    "* First, we should probably be careful with clients who had any delinquencies using our services. I would rather put them in a separate basket as a group of clients we at some point want to avoid. It can be a group of only defaulted clients, or stricter rule, like somebody who was late with the installment at some point (or late at least for more than couple of days).\n",
    "* Second, there are clients who regularly use our service or those who used it once or maybe two times. We may ask ourselves, what do we want to achieve? Do we want to contact our regular clients expecting to have higher positive reaction, because of their loyalty or we want to encourage less active users to come back to our service?\n",
    "* Third, there are clients who spend more on average than others, ViaBill seems to be interested in more expensive transactions to maximize merchant's fee. So, maybe we want to target those who tend to pay more.\n",
    "* Four, demographic factors. Maybe for some reason we may want to target some age/sex/location group. It may be anything depending on our goal.\n",
    "\n",
    "Let's assume, ViaBill decided to arrange a marketing campaign to increase sales for new-comming partnering companies from beauty industry which sale luxury cosmetics. Let's assume from analysis we see, that women tend to spend more for beauty-related products. Moreover, probably women elder than 40 years old on average have higher financial possibilities and spend more (on average) on products incl. cosmetics. So, we may target our campaign for women elder than 40, or maybe we may try out men over 40 years old, who may potentially buy smth for their wives or girlfriends.\n",
    "\n",
    "**What next?**\n",
    "Should we send the emails to every client > 40 years old? The short answer is - it depends. First of all, we should consider the cost of such email campaign, if it's very low, than we may consider sending marketing communication to even every client. Why not? Additionally, some clients may find our marketing communication offensive and decide to never use ViaBill services again. So, what if we need to optimize our campaign in terms of costs, avoid sending communication to those who will do what we expect anyway and to limit churn rate because of it. We may use A/B test, which is commonly used in Marketing. Plus to this after a while we may build a model trying to identify clients who will probably positively respond to it. So, the loop is the following:\n",
    "\n",
    "* Split a sample of clients as randomly as possible, both samples should be as similar as possible. Remember avoiding clients who tend to default.\n",
    "* Now we have group A and group B. Let B to be a smaller sample, just to test our campaign. Send marketing communication to clients from this sample B.\n",
    "* After a while, analyze the results. Is the purchase rate with ViaBill significantly higher than in sample A?\n",
    "* Let's build a model, for example `Uplift model` trying to identify which features help us to segment our clients and who of them tend to positively respond to the campaign.\n",
    "* Use our model to approximate purchase probability for different clients and send communication to a group with the higher one."
   ]
  },
  {
   "cell_type": "markdown",
   "metadata": {},
   "source": [
    "### Task 5"
   ]
  },
  {
   "cell_type": "markdown",
   "metadata": {},
   "source": [
    "Perform exploratory data analysis (EDA) and present interesting findings related to credit risk."
   ]
  },
  {
   "cell_type": "markdown",
   "metadata": {},
   "source": [
    "#### Reading sample"
   ]
  },
  {
   "cell_type": "markdown",
   "metadata": {},
   "source": [
    "*NOTE:* There are records in transactions table, where customerID is empty. We'll drop them, because we're not able to identify the customer."
   ]
  },
  {
   "cell_type": "code",
   "execution_count": 82,
   "metadata": {},
   "outputs": [
    {
     "name": "stdout",
     "output_type": "stream",
     "text": [
      " * sqlite:///data/viabill.db\n",
      "Done.\n"
     ]
    },
    {
     "data": {
      "text/html": [
       "<table>\n",
       "    <tr>\n",
       "        <th>count(*)</th>\n",
       "    </tr>\n",
       "    <tr>\n",
       "        <td>20017</td>\n",
       "    </tr>\n",
       "</table>"
      ],
      "text/plain": [
       "[(20017,)]"
      ]
     },
     "execution_count": 82,
     "metadata": {},
     "output_type": "execute_result"
    }
   ],
   "source": [
    "%%sql\n",
    "SELECT count(*) FROM transactions\n",
    "WHERE customerID = ''"
   ]
  },
  {
   "cell_type": "code",
   "execution_count": 81,
   "metadata": {},
   "outputs": [
    {
     "name": "stdout",
     "output_type": "stream",
     "text": [
      "(1979983, 13)\n"
     ]
    },
    {
     "data": {
      "text/html": [
       "<div>\n",
       "<style scoped>\n",
       "    .dataframe tbody tr th:only-of-type {\n",
       "        vertical-align: middle;\n",
       "    }\n",
       "\n",
       "    .dataframe tbody tr th {\n",
       "        vertical-align: top;\n",
       "    }\n",
       "\n",
       "    .dataframe thead th {\n",
       "        text-align: right;\n",
       "    }\n",
       "</style>\n",
       "<table border=\"1\" class=\"dataframe\">\n",
       "  <thead>\n",
       "    <tr style=\"text-align: right;\">\n",
       "      <th></th>\n",
       "      <th>transactionID</th>\n",
       "      <th>shopID</th>\n",
       "      <th>customerID</th>\n",
       "      <th>price</th>\n",
       "      <th>paytmentStatus1</th>\n",
       "      <th>paytmentStatus2</th>\n",
       "      <th>paytmentStatus3</th>\n",
       "      <th>paytmentStatus4</th>\n",
       "      <th>sex</th>\n",
       "      <th>age</th>\n",
       "      <th>residentialAddress</th>\n",
       "      <th>postalAddress</th>\n",
       "      <th>income</th>\n",
       "    </tr>\n",
       "  </thead>\n",
       "  <tbody>\n",
       "    <tr>\n",
       "      <th>0</th>\n",
       "      <td>1</td>\n",
       "      <td>114</td>\n",
       "      <td>2869</td>\n",
       "      <td>140</td>\n",
       "      <td>0</td>\n",
       "      <td>0</td>\n",
       "      <td>0</td>\n",
       "      <td>0</td>\n",
       "      <td>2</td>\n",
       "      <td>24</td>\n",
       "      <td>74 Ada Street</td>\n",
       "      <td>74 Ada Street</td>\n",
       "      <td>54900.0</td>\n",
       "    </tr>\n",
       "    <tr>\n",
       "      <th>1</th>\n",
       "      <td>2</td>\n",
       "      <td>855</td>\n",
       "      <td>124077</td>\n",
       "      <td>70</td>\n",
       "      <td>0</td>\n",
       "      <td>0</td>\n",
       "      <td>0</td>\n",
       "      <td>0</td>\n",
       "      <td>1</td>\n",
       "      <td>46</td>\n",
       "      <td>23 Brampton Street</td>\n",
       "      <td>23 Brampton Street</td>\n",
       "      <td>60000.0</td>\n",
       "    </tr>\n",
       "    <tr>\n",
       "      <th>2</th>\n",
       "      <td>3</td>\n",
       "      <td>752</td>\n",
       "      <td>86184</td>\n",
       "      <td>85</td>\n",
       "      <td>0</td>\n",
       "      <td>0</td>\n",
       "      <td>0</td>\n",
       "      <td>0</td>\n",
       "      <td>1</td>\n",
       "      <td>52</td>\n",
       "      <td>96 Avon Street</td>\n",
       "      <td>35 Spurwood Street</td>\n",
       "      <td>7100.0</td>\n",
       "    </tr>\n",
       "    <tr>\n",
       "      <th>3</th>\n",
       "      <td>4</td>\n",
       "      <td>246</td>\n",
       "      <td>248861</td>\n",
       "      <td>43</td>\n",
       "      <td>1</td>\n",
       "      <td>0</td>\n",
       "      <td>0</td>\n",
       "      <td>0</td>\n",
       "      <td>1</td>\n",
       "      <td>29</td>\n",
       "      <td>3 Merinda Street</td>\n",
       "      <td>3 Merinda Street</td>\n",
       "      <td>67600.0</td>\n",
       "    </tr>\n",
       "    <tr>\n",
       "      <th>4</th>\n",
       "      <td>5</td>\n",
       "      <td>973</td>\n",
       "      <td>162112</td>\n",
       "      <td>127</td>\n",
       "      <td>0</td>\n",
       "      <td>0</td>\n",
       "      <td>0</td>\n",
       "      <td>0</td>\n",
       "      <td>2</td>\n",
       "      <td>30</td>\n",
       "      <td>64 Distribution Street</td>\n",
       "      <td>64 Distribution Street</td>\n",
       "      <td>92000.0</td>\n",
       "    </tr>\n",
       "  </tbody>\n",
       "</table>\n",
       "</div>"
      ],
      "text/plain": [
       "   transactionID  shopID  customerID  price  paytmentStatus1  paytmentStatus2  \\\n",
       "0              1     114        2869    140                0                0   \n",
       "1              2     855      124077     70                0                0   \n",
       "2              3     752       86184     85                0                0   \n",
       "3              4     246      248861     43                1                0   \n",
       "4              5     973      162112    127                0                0   \n",
       "\n",
       "   paytmentStatus3  paytmentStatus4  sex  age      residentialAddress  \\\n",
       "0                0                0    2   24           74 Ada Street   \n",
       "1                0                0    1   46      23 Brampton Street   \n",
       "2                0                0    1   52          96 Avon Street   \n",
       "3                0                0    1   29        3 Merinda Street   \n",
       "4                0                0    2   30  64 Distribution Street   \n",
       "\n",
       "            postalAddress   income  \n",
       "0           74 Ada Street  54900.0  \n",
       "1      23 Brampton Street  60000.0  \n",
       "2      35 Spurwood Street   7100.0  \n",
       "3        3 Merinda Street  67600.0  \n",
       "4  64 Distribution Street  92000.0  "
      ]
     },
     "execution_count": 81,
     "metadata": {},
     "output_type": "execute_result"
    }
   ],
   "source": [
    "sql_query = '''\n",
    "         SELECT t.*,\n",
    "         sex, \n",
    "         age, \n",
    "         residentialAddress, \n",
    "         postalAddress,\n",
    "         income\n",
    "         \n",
    "         FROM transactions t\n",
    "         LEFT JOIN customers cust\n",
    "         ON t.customerID = cust.customerID\n",
    "         WHERE t.customerID != ''\n",
    "'''\n",
    "df = pd.read_sql(sql_query, con=engine)\n",
    "print(df.shape)\n",
    "df.head()"
   ]
  },
  {
   "cell_type": "markdown",
   "metadata": {},
   "source": [
    "#### General EDA"
   ]
  },
  {
   "cell_type": "code",
   "execution_count": 83,
   "metadata": {},
   "outputs": [
    {
     "data": {
      "text/html": [
       "<div>\n",
       "<style scoped>\n",
       "    .dataframe tbody tr th:only-of-type {\n",
       "        vertical-align: middle;\n",
       "    }\n",
       "\n",
       "    .dataframe tbody tr th {\n",
       "        vertical-align: top;\n",
       "    }\n",
       "\n",
       "    .dataframe thead th {\n",
       "        text-align: right;\n",
       "    }\n",
       "</style>\n",
       "<table border=\"1\" class=\"dataframe\">\n",
       "  <thead>\n",
       "    <tr style=\"text-align: right;\">\n",
       "      <th></th>\n",
       "      <th>transactionID</th>\n",
       "      <th>shopID</th>\n",
       "      <th>customerID</th>\n",
       "      <th>price</th>\n",
       "      <th>paytmentStatus1</th>\n",
       "      <th>paytmentStatus2</th>\n",
       "      <th>paytmentStatus3</th>\n",
       "      <th>paytmentStatus4</th>\n",
       "      <th>sex</th>\n",
       "      <th>age</th>\n",
       "      <th>income</th>\n",
       "    </tr>\n",
       "  </thead>\n",
       "  <tbody>\n",
       "    <tr>\n",
       "      <th>count</th>\n",
       "      <td>1.979983e+06</td>\n",
       "      <td>1.979983e+06</td>\n",
       "      <td>1.979983e+06</td>\n",
       "      <td>1.979983e+06</td>\n",
       "      <td>1.979983e+06</td>\n",
       "      <td>1.979983e+06</td>\n",
       "      <td>1.979983e+06</td>\n",
       "      <td>1.979983e+06</td>\n",
       "      <td>1.979983e+06</td>\n",
       "      <td>1.979983e+06</td>\n",
       "      <td>1.940494e+06</td>\n",
       "    </tr>\n",
       "    <tr>\n",
       "      <th>mean</th>\n",
       "      <td>1.000054e+06</td>\n",
       "      <td>5.492294e+02</td>\n",
       "      <td>2.500951e+05</td>\n",
       "      <td>1.015208e+02</td>\n",
       "      <td>1.175833e-01</td>\n",
       "      <td>1.473851e-01</td>\n",
       "      <td>1.896400e-01</td>\n",
       "      <td>2.685341e-01</td>\n",
       "      <td>1.150208e+00</td>\n",
       "      <td>4.463079e+01</td>\n",
       "      <td>4.999000e+04</td>\n",
       "    </tr>\n",
       "    <tr>\n",
       "      <th>std</th>\n",
       "      <td>5.773336e+05</td>\n",
       "      <td>2.598552e+02</td>\n",
       "      <td>1.442889e+05</td>\n",
       "      <td>5.717817e+01</td>\n",
       "      <td>3.607263e-01</td>\n",
       "      <td>4.278684e-01</td>\n",
       "      <td>5.054030e-01</td>\n",
       "      <td>6.168379e-01</td>\n",
       "      <td>4.783529e-01</td>\n",
       "      <td>1.617545e+01</td>\n",
       "      <td>2.890984e+04</td>\n",
       "    </tr>\n",
       "    <tr>\n",
       "      <th>min</th>\n",
       "      <td>1.000000e+00</td>\n",
       "      <td>1.000000e+02</td>\n",
       "      <td>1.000000e+00</td>\n",
       "      <td>3.000000e+00</td>\n",
       "      <td>0.000000e+00</td>\n",
       "      <td>0.000000e+00</td>\n",
       "      <td>0.000000e+00</td>\n",
       "      <td>0.000000e+00</td>\n",
       "      <td>0.000000e+00</td>\n",
       "      <td>5.000000e+00</td>\n",
       "      <td>0.000000e+00</td>\n",
       "    </tr>\n",
       "    <tr>\n",
       "      <th>25%</th>\n",
       "      <td>5.000725e+05</td>\n",
       "      <td>3.240000e+02</td>\n",
       "      <td>1.251390e+05</td>\n",
       "      <td>5.200000e+01</td>\n",
       "      <td>0.000000e+00</td>\n",
       "      <td>0.000000e+00</td>\n",
       "      <td>0.000000e+00</td>\n",
       "      <td>0.000000e+00</td>\n",
       "      <td>1.000000e+00</td>\n",
       "      <td>2.700000e+01</td>\n",
       "      <td>2.490000e+04</td>\n",
       "    </tr>\n",
       "    <tr>\n",
       "      <th>50%</th>\n",
       "      <td>1.000018e+06</td>\n",
       "      <td>5.490000e+02</td>\n",
       "      <td>2.500960e+05</td>\n",
       "      <td>1.020000e+02</td>\n",
       "      <td>0.000000e+00</td>\n",
       "      <td>0.000000e+00</td>\n",
       "      <td>0.000000e+00</td>\n",
       "      <td>0.000000e+00</td>\n",
       "      <td>1.000000e+00</td>\n",
       "      <td>5.000000e+01</td>\n",
       "      <td>5.000000e+04</td>\n",
       "    </tr>\n",
       "    <tr>\n",
       "      <th>75%</th>\n",
       "      <td>1.500016e+06</td>\n",
       "      <td>7.740000e+02</td>\n",
       "      <td>3.750930e+05</td>\n",
       "      <td>1.510000e+02</td>\n",
       "      <td>0.000000e+00</td>\n",
       "      <td>0.000000e+00</td>\n",
       "      <td>0.000000e+00</td>\n",
       "      <td>0.000000e+00</td>\n",
       "      <td>1.000000e+00</td>\n",
       "      <td>5.800000e+01</td>\n",
       "      <td>7.500000e+04</td>\n",
       "    </tr>\n",
       "    <tr>\n",
       "      <th>max</th>\n",
       "      <td>2.000000e+06</td>\n",
       "      <td>9.990000e+02</td>\n",
       "      <td>5.000000e+05</td>\n",
       "      <td>2.000000e+02</td>\n",
       "      <td>2.000000e+00</td>\n",
       "      <td>2.000000e+00</td>\n",
       "      <td>2.000000e+00</td>\n",
       "      <td>2.000000e+00</td>\n",
       "      <td>2.000000e+00</td>\n",
       "      <td>9.000000e+01</td>\n",
       "      <td>1.000000e+05</td>\n",
       "    </tr>\n",
       "  </tbody>\n",
       "</table>\n",
       "</div>"
      ],
      "text/plain": [
       "       transactionID        shopID    customerID         price  \\\n",
       "count   1.979983e+06  1.979983e+06  1.979983e+06  1.979983e+06   \n",
       "mean    1.000054e+06  5.492294e+02  2.500951e+05  1.015208e+02   \n",
       "std     5.773336e+05  2.598552e+02  1.442889e+05  5.717817e+01   \n",
       "min     1.000000e+00  1.000000e+02  1.000000e+00  3.000000e+00   \n",
       "25%     5.000725e+05  3.240000e+02  1.251390e+05  5.200000e+01   \n",
       "50%     1.000018e+06  5.490000e+02  2.500960e+05  1.020000e+02   \n",
       "75%     1.500016e+06  7.740000e+02  3.750930e+05  1.510000e+02   \n",
       "max     2.000000e+06  9.990000e+02  5.000000e+05  2.000000e+02   \n",
       "\n",
       "       paytmentStatus1  paytmentStatus2  paytmentStatus3  paytmentStatus4  \\\n",
       "count     1.979983e+06     1.979983e+06     1.979983e+06     1.979983e+06   \n",
       "mean      1.175833e-01     1.473851e-01     1.896400e-01     2.685341e-01   \n",
       "std       3.607263e-01     4.278684e-01     5.054030e-01     6.168379e-01   \n",
       "min       0.000000e+00     0.000000e+00     0.000000e+00     0.000000e+00   \n",
       "25%       0.000000e+00     0.000000e+00     0.000000e+00     0.000000e+00   \n",
       "50%       0.000000e+00     0.000000e+00     0.000000e+00     0.000000e+00   \n",
       "75%       0.000000e+00     0.000000e+00     0.000000e+00     0.000000e+00   \n",
       "max       2.000000e+00     2.000000e+00     2.000000e+00     2.000000e+00   \n",
       "\n",
       "                sex           age        income  \n",
       "count  1.979983e+06  1.979983e+06  1.940494e+06  \n",
       "mean   1.150208e+00  4.463079e+01  4.999000e+04  \n",
       "std    4.783529e-01  1.617545e+01  2.890984e+04  \n",
       "min    0.000000e+00  5.000000e+00  0.000000e+00  \n",
       "25%    1.000000e+00  2.700000e+01  2.490000e+04  \n",
       "50%    1.000000e+00  5.000000e+01  5.000000e+04  \n",
       "75%    1.000000e+00  5.800000e+01  7.500000e+04  \n",
       "max    2.000000e+00  9.000000e+01  1.000000e+05  "
      ]
     },
     "execution_count": 83,
     "metadata": {},
     "output_type": "execute_result"
    }
   ],
   "source": [
    "df.describe()"
   ]
  },
  {
   "cell_type": "markdown",
   "metadata": {},
   "source": [
    "##### **Data types optimization**"
   ]
  },
  {
   "cell_type": "code",
   "execution_count": 84,
   "metadata": {},
   "outputs": [
    {
     "data": {
      "text/plain": [
       "transactionID           int64\n",
       "shopID                  int64\n",
       "customerID              int64\n",
       "price                   int64\n",
       "paytmentStatus1         int64\n",
       "paytmentStatus2         int64\n",
       "paytmentStatus3         int64\n",
       "paytmentStatus4         int64\n",
       "sex                     int64\n",
       "age                     int64\n",
       "residentialAddress     object\n",
       "postalAddress          object\n",
       "income                float64\n",
       "dtype: object"
      ]
     },
     "execution_count": 84,
     "metadata": {},
     "output_type": "execute_result"
    }
   ],
   "source": [
    "# check data types\n",
    "df.dtypes"
   ]
  },
  {
   "cell_type": "code",
   "execution_count": 86,
   "metadata": {},
   "outputs": [
    {
     "data": {
      "text/plain": [
       "transactionID           int32\n",
       "shopID                  int32\n",
       "customerID              int32\n",
       "price                   int64\n",
       "paytmentStatus1         int16\n",
       "paytmentStatus2         int16\n",
       "paytmentStatus3         int16\n",
       "paytmentStatus4         int16\n",
       "sex                     int16\n",
       "age                     int16\n",
       "residentialAddress     object\n",
       "postalAddress          object\n",
       "income                float32\n",
       "dtype: object"
      ]
     },
     "execution_count": 86,
     "metadata": {},
     "output_type": "execute_result"
    }
   ],
   "source": [
    "# some dtypes modifications\n",
    "dtypes_dict = {\n",
    "    \"transactionID\": \"int32\",\n",
    "    \"shopID\": \"int32\",\n",
    "    \"paytmentStatus1\": \"int16\",\n",
    "    \"paytmentStatus2\": \"int16\",\n",
    "    \"paytmentStatus3\": \"int16\",\n",
    "    \"paytmentStatus4\": \"int16\",\n",
    "    \"customerID\": \"int32\",\n",
    "    \"sex\": \"int16\",\n",
    "    \"age\": \"int16\",\n",
    "    \"income\": \"float32\"\n",
    "}\n",
    "\n",
    "df = df.astype(dtypes_dict)\n",
    "df.dtypes"
   ]
  },
  {
   "cell_type": "markdown",
   "metadata": {},
   "source": [
    "##### **Checking missings**"
   ]
  },
  {
   "cell_type": "code",
   "execution_count": 87,
   "metadata": {},
   "outputs": [
    {
     "data": {
      "text/plain": [
       "transactionID             0\n",
       "shopID                    0\n",
       "customerID                0\n",
       "price                     0\n",
       "paytmentStatus1           0\n",
       "paytmentStatus2           0\n",
       "paytmentStatus3           0\n",
       "paytmentStatus4           0\n",
       "sex                       0\n",
       "age                       0\n",
       "residentialAddress        0\n",
       "postalAddress             0\n",
       "income                39489\n",
       "dtype: int64"
      ]
     },
     "execution_count": 87,
     "metadata": {},
     "output_type": "execute_result"
    }
   ],
   "source": [
    "df.isnull().sum()"
   ]
  },
  {
   "cell_type": "code",
   "execution_count": 100,
   "metadata": {},
   "outputs": [
    {
     "name": "stdout",
     "output_type": "stream",
     "text": [
      "0 missing values for residentialAddress found\n",
      "40051 missing values for postalAddress found\n"
     ]
    }
   ],
   "source": [
    "if df[(df.residentialAddress == \"\") | (df.postalAddress == \"\")].shape[0] > 0:\n",
    "    print(f\"{df[df.residentialAddress == ''].shape[0]} missing values for residentialAddress found\")\n",
    "    print(f\"{df[df.postalAddress == ''].shape[0]} missing values for postalAddress found\")\n",
    "else:\n",
    "    print(\"residentialAddress and postalAddress don't contain missings\")"
   ]
  },
  {
   "cell_type": "markdown",
   "metadata": {},
   "source": [
    "##### **Check for duplicates**"
   ]
  },
  {
   "cell_type": "code",
   "execution_count": 128,
   "metadata": {},
   "outputs": [
    {
     "data": {
      "text/plain": [
       "1          1\n",
       "1333389    1\n",
       "1333357    1\n",
       "1333356    1\n",
       "1333355    1\n",
       "Name: transactionID, dtype: int64"
      ]
     },
     "execution_count": 128,
     "metadata": {},
     "output_type": "execute_result"
    }
   ],
   "source": [
    "df.transactionID.value_counts()[:5]"
   ]
  },
  {
   "cell_type": "markdown",
   "metadata": {},
   "source": [
    "##### **Defining candidates for target - default or is_overdue**"
   ]
  },
  {
   "cell_type": "markdown",
   "metadata": {},
   "source": [
    "Below we may see plots, representing payment status distribution. `0` means installment was paid on time, `1` - installment was late, `2` - never paid. Generally speaking it seems to be logical, that the number of defaults growth for latter installments. But we may notice few interesting patterns and there is one question appear from the very beginning.\n",
    "\n",
    "1. Why do we have overdues or defaults for the very first payment? As far as I know, ViaBill takes the first payment during the purchase and it seems for me to be a requirement to use ViaBill payment option - to pay the first installment. That's definitely something I would ask. Now, let's assume it's ok and is in line with the business logic.\n",
    "2. Defaults share grows with time, late payments decrease. So, we may suggest clients who are late with their first payments tend to go default. It may be a signal for us to initiate some additional collection activities while we see somebody is late with their instalments."
   ]
  },
  {
   "cell_type": "code",
   "execution_count": 111,
   "metadata": {},
   "outputs": [
    {
     "data": {
      "image/png": "[encoded data removed]",
      "text/plain": [
       "<Figure size 1000x1000 with 4 Axes>"
      ]
     },
     "metadata": {},
     "output_type": "display_data"
    }
   ],
   "source": [
    "fig, axs = plt.subplots(nrows=2, ncols=2, figsize=(10,10))\n",
    "sns.countplot(x=df.paytmentStatus1, ax=axs[0][0])\n",
    "sns.countplot(x=df.paytmentStatus2, ax=axs[0][1])\n",
    "sns.countplot(x=df.paytmentStatus3, ax=axs[1][0])\n",
    "sns.countplot(x=df.paytmentStatus4, ax=axs[1][1]);"
   ]
  },
  {
   "cell_type": "markdown",
   "metadata": {},
   "source": [
    "Let's see some movements between paymentStatuses."
   ]
  },
  {
   "cell_type": "code",
   "execution_count": 153,
   "metadata": {},
   "outputs": [
    {
     "name": "stdout",
     "output_type": "stream",
     "text": [
      "paytmentStatus2         0         1         2\n",
      "paytmentStatus1                              \n",
      "0                0.896371  0.087891  0.015738\n",
      "1                0.860904  0.123460  0.015636\n",
      "2                0.000000  0.000000  1.000000\n",
      "\n",
      "\n",
      "paytmentStatus3         0         1         2\n",
      "paytmentStatus2                              \n",
      "0                0.889878  0.087173  0.022950\n",
      "1                0.855461  0.122895  0.021644\n",
      "2                0.000000  0.000000  1.000000\n",
      "\n",
      "\n",
      "paytmentStatus4         0         1         2\n",
      "paytmentStatus3                              \n",
      "0                0.870794  0.085763  0.043443\n",
      "1                0.836757  0.120683  0.042561\n",
      "2                0.000000  0.000000  1.000000\n",
      "\n",
      "\n"
     ]
    }
   ],
   "source": [
    "payments = [(1,2), (2,3), (3,4)]\n",
    "\n",
    "for idx1, idx2 in payments:\n",
    "    print(pd.crosstab(index=df[f\"paytmentStatus{idx1}\"], columns= df[f\"paytmentStatus{idx2}\"], normalize=\"index\"))\n",
    "    print(\"\\n\")"
   ]
  },
  {
   "cell_type": "markdown",
   "metadata": {},
   "source": [
    "Main conclusions:\n",
    "- If client defaulted in some point in time - there is no way this transaction cures (leaves default)\n",
    "- There is, surprisingly no much difference in default rate for consequative payments for statuses 0 and 1. So, if client is late with a payment, then he/she tend to be late with another payment more, but goes to default rather with the same tendency as those with paytmentStatus = 0. \n",
    "- Default rate is rather not high, we may expect unbalanced target, which is normal for Credit Risk tasks."
   ]
  },
  {
   "cell_type": "markdown",
   "metadata": {},
   "source": [
    "Let's calculate the target. Default will be our target, from what we saw in our cross tables, there is no way client leaves default if client went there, so it's enough just to check the last payment status to determine whether it's defaulted one."
   ]
  },
  {
   "cell_type": "code",
   "execution_count": 152,
   "metadata": {},
   "outputs": [
    {
     "data": {
      "text/html": [
       "<div>\n",
       "<style scoped>\n",
       "    .dataframe tbody tr th:only-of-type {\n",
       "        vertical-align: middle;\n",
       "    }\n",
       "\n",
       "    .dataframe tbody tr th {\n",
       "        vertical-align: top;\n",
       "    }\n",
       "\n",
       "    .dataframe thead th {\n",
       "        text-align: right;\n",
       "    }\n",
       "</style>\n",
       "<table border=\"1\" class=\"dataframe\">\n",
       "  <thead>\n",
       "    <tr style=\"text-align: right;\">\n",
       "      <th></th>\n",
       "      <th>transactionID</th>\n",
       "      <th>shopID</th>\n",
       "      <th>customerID</th>\n",
       "      <th>price</th>\n",
       "      <th>paytmentStatus1</th>\n",
       "      <th>paytmentStatus2</th>\n",
       "      <th>paytmentStatus3</th>\n",
       "      <th>paytmentStatus4</th>\n",
       "      <th>sex</th>\n",
       "      <th>age</th>\n",
       "      <th>residentialAddress</th>\n",
       "      <th>postalAddress</th>\n",
       "      <th>income</th>\n",
       "      <th>default</th>\n",
       "    </tr>\n",
       "  </thead>\n",
       "  <tbody>\n",
       "    <tr>\n",
       "      <th>0</th>\n",
       "      <td>1</td>\n",
       "      <td>114</td>\n",
       "      <td>2869</td>\n",
       "      <td>140</td>\n",
       "      <td>0</td>\n",
       "      <td>0</td>\n",
       "      <td>0</td>\n",
       "      <td>0</td>\n",
       "      <td>2</td>\n",
       "      <td>24</td>\n",
       "      <td>74 Ada Street</td>\n",
       "      <td>74 Ada Street</td>\n",
       "      <td>54900.0</td>\n",
       "      <td>0</td>\n",
       "    </tr>\n",
       "    <tr>\n",
       "      <th>1</th>\n",
       "      <td>2</td>\n",
       "      <td>855</td>\n",
       "      <td>124077</td>\n",
       "      <td>70</td>\n",
       "      <td>0</td>\n",
       "      <td>0</td>\n",
       "      <td>0</td>\n",
       "      <td>0</td>\n",
       "      <td>1</td>\n",
       "      <td>46</td>\n",
       "      <td>23 Brampton Street</td>\n",
       "      <td>23 Brampton Street</td>\n",
       "      <td>60000.0</td>\n",
       "      <td>0</td>\n",
       "    </tr>\n",
       "    <tr>\n",
       "      <th>2</th>\n",
       "      <td>3</td>\n",
       "      <td>752</td>\n",
       "      <td>86184</td>\n",
       "      <td>85</td>\n",
       "      <td>0</td>\n",
       "      <td>0</td>\n",
       "      <td>0</td>\n",
       "      <td>0</td>\n",
       "      <td>1</td>\n",
       "      <td>52</td>\n",
       "      <td>96 Avon Street</td>\n",
       "      <td>35 Spurwood Street</td>\n",
       "      <td>7100.0</td>\n",
       "      <td>0</td>\n",
       "    </tr>\n",
       "    <tr>\n",
       "      <th>3</th>\n",
       "      <td>4</td>\n",
       "      <td>246</td>\n",
       "      <td>248861</td>\n",
       "      <td>43</td>\n",
       "      <td>1</td>\n",
       "      <td>0</td>\n",
       "      <td>0</td>\n",
       "      <td>0</td>\n",
       "      <td>1</td>\n",
       "      <td>29</td>\n",
       "      <td>3 Merinda Street</td>\n",
       "      <td>3 Merinda Street</td>\n",
       "      <td>67600.0</td>\n",
       "      <td>0</td>\n",
       "    </tr>\n",
       "    <tr>\n",
       "      <th>4</th>\n",
       "      <td>5</td>\n",
       "      <td>973</td>\n",
       "      <td>162112</td>\n",
       "      <td>127</td>\n",
       "      <td>0</td>\n",
       "      <td>0</td>\n",
       "      <td>0</td>\n",
       "      <td>0</td>\n",
       "      <td>2</td>\n",
       "      <td>30</td>\n",
       "      <td>64 Distribution Street</td>\n",
       "      <td>64 Distribution Street</td>\n",
       "      <td>92000.0</td>\n",
       "      <td>0</td>\n",
       "    </tr>\n",
       "  </tbody>\n",
       "</table>\n",
       "</div>"
      ],
      "text/plain": [
       "   transactionID  shopID  customerID  price  paytmentStatus1  paytmentStatus2  \\\n",
       "0              1     114        2869    140                0                0   \n",
       "1              2     855      124077     70                0                0   \n",
       "2              3     752       86184     85                0                0   \n",
       "3              4     246      248861     43                1                0   \n",
       "4              5     973      162112    127                0                0   \n",
       "\n",
       "   paytmentStatus3  paytmentStatus4  sex  age      residentialAddress  \\\n",
       "0                0                0    2   24           74 Ada Street   \n",
       "1                0                0    1   46      23 Brampton Street   \n",
       "2                0                0    1   52          96 Avon Street   \n",
       "3                0                0    1   29        3 Merinda Street   \n",
       "4                0                0    2   30  64 Distribution Street   \n",
       "\n",
       "            postalAddress   income  default  \n",
       "0           74 Ada Street  54900.0        0  \n",
       "1      23 Brampton Street  60000.0        0  \n",
       "2      35 Spurwood Street   7100.0        0  \n",
       "3        3 Merinda Street  67600.0        0  \n",
       "4  64 Distribution Street  92000.0        0  "
      ]
     },
     "execution_count": 152,
     "metadata": {},
     "output_type": "execute_result"
    }
   ],
   "source": [
    "df[\"default\"] = np.where(df.paytmentStatus4 == 2, 1, 0)\n",
    "df.head()"
   ]
  },
  {
   "cell_type": "code",
   "execution_count": 167,
   "metadata": {},
   "outputs": [],
   "source": [
    "# sanity check: Seems ok\n",
    "assert df[(df[pstatuses].apply(lambda x: max(x), axis=1) == 2) & (df.default == 0)].shape[0] == 0"
   ]
  },
  {
   "cell_type": "markdown",
   "metadata": {},
   "source": [
    "#### Univariate EDA"
   ]
  },
  {
   "cell_type": "code",
   "execution_count": 170,
   "metadata": {},
   "outputs": [
    {
     "data": {
      "text/plain": [
       "847    2352\n",
       "280    2332\n",
       "589    2331\n",
       "234    2321\n",
       "870    2319\n",
       "       ... \n",
       "256    2077\n",
       "419    2074\n",
       "373    2074\n",
       "276    2071\n",
       "248    2064\n",
       "Name: shopID, Length: 900, dtype: int64"
      ]
     },
     "execution_count": 170,
     "metadata": {},
     "output_type": "execute_result"
    }
   ],
   "source": [
    "# shops are relatively balanced\n",
    "df.shopID.value_counts()"
   ]
  },
  {
   "cell_type": "code",
   "execution_count": 172,
   "metadata": {},
   "outputs": [
    {
     "data": {
      "text/plain": [
       "61875     16\n",
       "270525    16\n",
       "47943     15\n",
       "110021    15\n",
       "467917    15\n",
       "          ..\n",
       "204578     1\n",
       "427555     1\n",
       "9293       1\n",
       "343136     1\n",
       "411107     1\n",
       "Name: customerID, Length: 490533, dtype: int64"
      ]
     },
     "execution_count": 172,
     "metadata": {},
     "output_type": "execute_result"
    }
   ],
   "source": [
    "# There are regular and one-time clients\n",
    "df.customerID.value_counts()"
   ]
  },
  {
   "cell_type": "markdown",
   "metadata": {},
   "source": [
    "`Income` and `price` are distributed rather equally, `sex` is biased towards men. About `age` there was already a short comment about strange gap in the middle age."
   ]
  },
  {
   "cell_type": "code",
   "execution_count": 179,
   "metadata": {},
   "outputs": [
    {
     "data": {
      "image/png": "[encoded data removed]",
      "text/plain": [
       "<Figure size 1000x1000 with 4 Axes>"
      ]
     },
     "metadata": {},
     "output_type": "display_data"
    }
   ],
   "source": [
    "fig, axs = plt.subplots(2, 2, figsize=(10,10))\n",
    "sns.kdeplot(x=df.price, ax= axs[0][0])\n",
    "sns.countplot(x=df.sex, ax= axs[0][1])\n",
    "sns.kdeplot(x=df.age, ax= axs[1][0])\n",
    "sns.kdeplot(x=df.income, ax= axs[1][1]);"
   ]
  },
  {
   "cell_type": "code",
   "execution_count": 206,
   "metadata": {},
   "outputs": [
    {
     "data": {
      "text/html": [
       "<div>\n",
       "<style scoped>\n",
       "    .dataframe tbody tr th:only-of-type {\n",
       "        vertical-align: middle;\n",
       "    }\n",
       "\n",
       "    .dataframe tbody tr th {\n",
       "        vertical-align: top;\n",
       "    }\n",
       "\n",
       "    .dataframe thead th {\n",
       "        text-align: right;\n",
       "    }\n",
       "</style>\n",
       "<table border=\"1\" class=\"dataframe\">\n",
       "  <thead>\n",
       "    <tr style=\"text-align: right;\">\n",
       "      <th></th>\n",
       "      <th>price</th>\n",
       "      <th>income</th>\n",
       "    </tr>\n",
       "  </thead>\n",
       "  <tbody>\n",
       "    <tr>\n",
       "      <th>count</th>\n",
       "      <td>1.979983e+06</td>\n",
       "      <td>1.940494e+06</td>\n",
       "    </tr>\n",
       "    <tr>\n",
       "      <th>mean</th>\n",
       "      <td>1.015208e+02</td>\n",
       "      <td>4.999000e+04</td>\n",
       "    </tr>\n",
       "    <tr>\n",
       "      <th>std</th>\n",
       "      <td>5.717817e+01</td>\n",
       "      <td>2.890984e+04</td>\n",
       "    </tr>\n",
       "    <tr>\n",
       "      <th>min</th>\n",
       "      <td>3.000000e+00</td>\n",
       "      <td>0.000000e+00</td>\n",
       "    </tr>\n",
       "    <tr>\n",
       "      <th>25%</th>\n",
       "      <td>5.200000e+01</td>\n",
       "      <td>2.490000e+04</td>\n",
       "    </tr>\n",
       "    <tr>\n",
       "      <th>50%</th>\n",
       "      <td>1.020000e+02</td>\n",
       "      <td>5.000000e+04</td>\n",
       "    </tr>\n",
       "    <tr>\n",
       "      <th>75%</th>\n",
       "      <td>1.510000e+02</td>\n",
       "      <td>7.500000e+04</td>\n",
       "    </tr>\n",
       "    <tr>\n",
       "      <th>max</th>\n",
       "      <td>2.000000e+02</td>\n",
       "      <td>1.000000e+05</td>\n",
       "    </tr>\n",
       "  </tbody>\n",
       "</table>\n",
       "</div>"
      ],
      "text/plain": [
       "              price        income\n",
       "count  1.979983e+06  1.940494e+06\n",
       "mean   1.015208e+02  4.999000e+04\n",
       "std    5.717817e+01  2.890984e+04\n",
       "min    3.000000e+00  0.000000e+00\n",
       "25%    5.200000e+01  2.490000e+04\n",
       "50%    1.020000e+02  5.000000e+04\n",
       "75%    1.510000e+02  7.500000e+04\n",
       "max    2.000000e+02  1.000000e+05"
      ]
     },
     "execution_count": 206,
     "metadata": {},
     "output_type": "execute_result"
    }
   ],
   "source": [
    "df[[\"price\", \"income\"]].describe()"
   ]
  },
  {
   "cell_type": "markdown",
   "metadata": {},
   "source": [
    "Minimal price is 3? Seems like an outlier, probably this is some kind of a mistake. Did we initiated loan for a customer with 0 income? Do clients give their monthly or annual salary?"
   ]
  },
  {
   "cell_type": "code",
   "execution_count": 222,
   "metadata": {},
   "outputs": [
    {
     "data": {
      "image/png": "[encoded data removed]",
      "text/plain": [
       "<Figure size 1000x500 with 2 Axes>"
      ]
     },
     "metadata": {},
     "output_type": "display_data"
    }
   ],
   "source": [
    "fig, axs = plt.subplots(2, 1, figsize=(10,5))\n",
    "sns.boxplot(x=df.price, ax = axs[0])\n",
    "sns.boxplot(x=df.income, ax = axs[1])\n",
    "plt.tight_layout()"
   ]
  },
  {
   "cell_type": "code",
   "execution_count": 187,
   "metadata": {},
   "outputs": [
    {
     "data": {
      "text/plain": [
       "0    0.907967\n",
       "1    0.092033\n",
       "Name: default, dtype: float64"
      ]
     },
     "execution_count": 187,
     "metadata": {},
     "output_type": "execute_result"
    }
   ],
   "source": [
    "# As expected, target classes are disbalanced\n",
    "df.default.value_counts(normalize=True)"
   ]
  },
  {
   "cell_type": "code",
   "execution_count": 191,
   "metadata": {},
   "outputs": [
    {
     "name": "stdout",
     "output_type": "stream",
     "text": [
      "(97142, 14)\n"
     ]
    },
    {
     "data": {
      "text/html": [
       "<div>\n",
       "<style scoped>\n",
       "    .dataframe tbody tr th:only-of-type {\n",
       "        vertical-align: middle;\n",
       "    }\n",
       "\n",
       "    .dataframe tbody tr th {\n",
       "        vertical-align: top;\n",
       "    }\n",
       "\n",
       "    .dataframe thead th {\n",
       "        text-align: right;\n",
       "    }\n",
       "</style>\n",
       "<table border=\"1\" class=\"dataframe\">\n",
       "  <thead>\n",
       "    <tr style=\"text-align: right;\">\n",
       "      <th></th>\n",
       "      <th>transactionID</th>\n",
       "      <th>shopID</th>\n",
       "      <th>customerID</th>\n",
       "      <th>price</th>\n",
       "      <th>paytmentStatus1</th>\n",
       "      <th>paytmentStatus2</th>\n",
       "      <th>paytmentStatus3</th>\n",
       "      <th>paytmentStatus4</th>\n",
       "      <th>sex</th>\n",
       "      <th>age</th>\n",
       "      <th>residentialAddress</th>\n",
       "      <th>postalAddress</th>\n",
       "      <th>income</th>\n",
       "      <th>default</th>\n",
       "    </tr>\n",
       "  </thead>\n",
       "  <tbody>\n",
       "    <tr>\n",
       "      <th>2</th>\n",
       "      <td>3</td>\n",
       "      <td>752</td>\n",
       "      <td>86184</td>\n",
       "      <td>85</td>\n",
       "      <td>0</td>\n",
       "      <td>0</td>\n",
       "      <td>0</td>\n",
       "      <td>0</td>\n",
       "      <td>1</td>\n",
       "      <td>52</td>\n",
       "      <td>96 Avon Street</td>\n",
       "      <td>35 Spurwood Street</td>\n",
       "      <td>7100.0</td>\n",
       "      <td>0</td>\n",
       "    </tr>\n",
       "    <tr>\n",
       "      <th>18</th>\n",
       "      <td>19</td>\n",
       "      <td>142</td>\n",
       "      <td>286888</td>\n",
       "      <td>71</td>\n",
       "      <td>0</td>\n",
       "      <td>2</td>\n",
       "      <td>2</td>\n",
       "      <td>2</td>\n",
       "      <td>2</td>\n",
       "      <td>37</td>\n",
       "      <td>7 Ardara Street</td>\n",
       "      <td>72 Baskerville Street</td>\n",
       "      <td>24700.0</td>\n",
       "      <td>1</td>\n",
       "    </tr>\n",
       "    <tr>\n",
       "      <th>52</th>\n",
       "      <td>55</td>\n",
       "      <td>872</td>\n",
       "      <td>3391</td>\n",
       "      <td>12</td>\n",
       "      <td>0</td>\n",
       "      <td>0</td>\n",
       "      <td>0</td>\n",
       "      <td>0</td>\n",
       "      <td>0</td>\n",
       "      <td>23</td>\n",
       "      <td>84 Belford Street</td>\n",
       "      <td>64 Junction Street</td>\n",
       "      <td>68100.0</td>\n",
       "      <td>0</td>\n",
       "    </tr>\n",
       "    <tr>\n",
       "      <th>83</th>\n",
       "      <td>86</td>\n",
       "      <td>686</td>\n",
       "      <td>308573</td>\n",
       "      <td>65</td>\n",
       "      <td>0</td>\n",
       "      <td>0</td>\n",
       "      <td>0</td>\n",
       "      <td>0</td>\n",
       "      <td>1</td>\n",
       "      <td>44</td>\n",
       "      <td>52 Bassano Street</td>\n",
       "      <td>65 Avadne Road</td>\n",
       "      <td>41700.0</td>\n",
       "      <td>0</td>\n",
       "    </tr>\n",
       "    <tr>\n",
       "      <th>87</th>\n",
       "      <td>90</td>\n",
       "      <td>710</td>\n",
       "      <td>206804</td>\n",
       "      <td>132</td>\n",
       "      <td>0</td>\n",
       "      <td>0</td>\n",
       "      <td>0</td>\n",
       "      <td>0</td>\n",
       "      <td>1</td>\n",
       "      <td>60</td>\n",
       "      <td>94 Suffolk Place</td>\n",
       "      <td>30 Seventeen mile rocks Road</td>\n",
       "      <td>48100.0</td>\n",
       "      <td>0</td>\n",
       "    </tr>\n",
       "  </tbody>\n",
       "</table>\n",
       "</div>"
      ],
      "text/plain": [
       "    transactionID  shopID  customerID  price  paytmentStatus1  \\\n",
       "2               3     752       86184     85                0   \n",
       "18             19     142      286888     71                0   \n",
       "52             55     872        3391     12                0   \n",
       "83             86     686      308573     65                0   \n",
       "87             90     710      206804    132                0   \n",
       "\n",
       "    paytmentStatus2  paytmentStatus3  paytmentStatus4  sex  age  \\\n",
       "2                 0                0                0    1   52   \n",
       "18                2                2                2    2   37   \n",
       "52                0                0                0    0   23   \n",
       "83                0                0                0    1   44   \n",
       "87                0                0                0    1   60   \n",
       "\n",
       "   residentialAddress                 postalAddress   income  default  \n",
       "2      96 Avon Street            35 Spurwood Street   7100.0        0  \n",
       "18    7 Ardara Street         72 Baskerville Street  24700.0        1  \n",
       "52  84 Belford Street            64 Junction Street  68100.0        0  \n",
       "83  52 Bassano Street                65 Avadne Road  41700.0        0  \n",
       "87   94 Suffolk Place  30 Seventeen mile rocks Road  48100.0        0  "
      ]
     },
     "execution_count": 191,
     "metadata": {},
     "output_type": "execute_result"
    }
   ],
   "source": [
    "# Are residentialAddress and postalAddress differenct sometimes?\n",
    "print(df[(df.residentialAddress != df.postalAddress ) & (df.postalAddress != '')].shape)\n",
    "df[(df.residentialAddress != df.postalAddress ) & (df.postalAddress != '')].head()"
   ]
  },
  {
   "cell_type": "code",
   "execution_count": 192,
   "metadata": {},
   "outputs": [
    {
     "data": {
      "text/plain": [
       "389995"
      ]
     },
     "execution_count": 192,
     "metadata": {},
     "output_type": "execute_result"
    }
   ],
   "source": [
    "len(np.unique(df.residentialAddress))"
   ]
  },
  {
   "cell_type": "code",
   "execution_count": 193,
   "metadata": {},
   "outputs": [
    {
     "data": {
      "text/plain": [
       "43 Boundary Road        50\n",
       "4 Park Road             49\n",
       "92 Victoria Street      49\n",
       "54 Boundary Road        48\n",
       "45 Clifton Street       46\n",
       "                        ..\n",
       "43 Harrison Crescent     1\n",
       "23 Dyne Street           1\n",
       "89 Cambus Street         1\n",
       "15 Wood Avenue           1\n",
       "99 Purcell Lane          1\n",
       "Name: residentialAddress, Length: 389995, dtype: int64"
      ]
     },
     "execution_count": 193,
     "metadata": {},
     "output_type": "execute_result"
    }
   ],
   "source": [
    "df.residentialAddress.value_counts()"
   ]
  },
  {
   "cell_type": "markdown",
   "metadata": {},
   "source": [
    "### Multivariate EDA"
   ]
  },
  {
   "cell_type": "code",
   "execution_count": 196,
   "metadata": {},
   "outputs": [
    {
     "data": {
      "image/png": "[encoded data removed]",
      "text/plain": [
       "<Figure size 558.875x500 with 1 Axes>"
      ]
     },
     "metadata": {},
     "output_type": "display_data"
    }
   ],
   "source": [
    "# Seems like there is no dependancy between sex and income\n",
    "sns.displot(customers, x=\"income\", hue=\"sex\", kind=\"kde\", common_norm=False, palette=sns.color_palette(\"bright\", 3));"
   ]
  },
  {
   "cell_type": "code",
   "execution_count": 198,
   "metadata": {},
   "outputs": [
    {
     "data": {
      "text/html": [
       "<div>\n",
       "<style scoped>\n",
       "    .dataframe tbody tr th:only-of-type {\n",
       "        vertical-align: middle;\n",
       "    }\n",
       "\n",
       "    .dataframe tbody tr th {\n",
       "        vertical-align: top;\n",
       "    }\n",
       "\n",
       "    .dataframe thead th {\n",
       "        text-align: right;\n",
       "    }\n",
       "</style>\n",
       "<table border=\"1\" class=\"dataframe\">\n",
       "  <thead>\n",
       "    <tr style=\"text-align: right;\">\n",
       "      <th></th>\n",
       "      <th>income</th>\n",
       "      <th>age</th>\n",
       "    </tr>\n",
       "  </thead>\n",
       "  <tbody>\n",
       "    <tr>\n",
       "      <th>income</th>\n",
       "      <td>1.000000</td>\n",
       "      <td>0.001083</td>\n",
       "    </tr>\n",
       "    <tr>\n",
       "      <th>age</th>\n",
       "      <td>0.001083</td>\n",
       "      <td>1.000000</td>\n",
       "    </tr>\n",
       "  </tbody>\n",
       "</table>\n",
       "</div>"
      ],
      "text/plain": [
       "          income       age\n",
       "income  1.000000  0.001083\n",
       "age     0.001083  1.000000"
      ]
     },
     "execution_count": 198,
     "metadata": {},
     "output_type": "execute_result"
    }
   ],
   "source": [
    "# Strange, there is no correlation beween age and income. Is this data synthetic?\n",
    "df[[\"income\", \"age\"]].corr()"
   ]
  },
  {
   "cell_type": "code",
   "execution_count": 200,
   "metadata": {},
   "outputs": [
    {
     "data": {
      "text/html": [
       "<div>\n",
       "<style scoped>\n",
       "    .dataframe tbody tr th:only-of-type {\n",
       "        vertical-align: middle;\n",
       "    }\n",
       "\n",
       "    .dataframe tbody tr th {\n",
       "        vertical-align: top;\n",
       "    }\n",
       "\n",
       "    .dataframe thead th {\n",
       "        text-align: right;\n",
       "    }\n",
       "</style>\n",
       "<table border=\"1\" class=\"dataframe\">\n",
       "  <thead>\n",
       "    <tr style=\"text-align: right;\">\n",
       "      <th></th>\n",
       "      <th>income</th>\n",
       "      <th>price</th>\n",
       "    </tr>\n",
       "  </thead>\n",
       "  <tbody>\n",
       "    <tr>\n",
       "      <th>income</th>\n",
       "      <td>1.000000</td>\n",
       "      <td>0.001872</td>\n",
       "    </tr>\n",
       "    <tr>\n",
       "      <th>price</th>\n",
       "      <td>0.001872</td>\n",
       "      <td>1.000000</td>\n",
       "    </tr>\n",
       "  </tbody>\n",
       "</table>\n",
       "</div>"
      ],
      "text/plain": [
       "          income     price\n",
       "income  1.000000  0.001872\n",
       "price   0.001872  1.000000"
      ]
     },
     "execution_count": 200,
     "metadata": {},
     "output_type": "execute_result"
    }
   ],
   "source": [
    "# Strange, there is no correlation beween price and income. Is this data synthetic?\n",
    "df[[\"income\", \"price\"]].corr()"
   ]
  },
  {
   "cell_type": "markdown",
   "metadata": {},
   "source": [
    "##### **Default related analysis**"
   ]
  },
  {
   "cell_type": "code",
   "execution_count": 204,
   "metadata": {},
   "outputs": [
    {
     "data": {
      "image/png": "[encoded data removed]",
      "text/plain": [
       "<Figure size 640x480 with 1 Axes>"
      ]
     },
     "metadata": {},
     "output_type": "display_data"
    }
   ],
   "source": [
    "# Do we have customers who defaulted more than once?\n",
    "sns.countplot(x=df.groupby(\"customerID\").default.sum());"
   ]
  },
  {
   "cell_type": "markdown",
   "metadata": {},
   "source": [
    "Some customers went in default more than once. Why do we approve their applications after the first default?"
   ]
  },
  {
   "cell_type": "code",
   "execution_count": 224,
   "metadata": {},
   "outputs": [
    {
     "data": {
      "image/png": "[encoded data removed]",
      "text/plain": [
       "<Figure size 560.236x500 with 1 Axes>"
      ]
     },
     "metadata": {},
     "output_type": "display_data"
    }
   ],
   "source": [
    "# Is there a dependancy between price and default?\n",
    "sns.displot(df, x=\"price\", hue=\"default\", kind=\"kde\", common_norm=False, palette=sns.color_palette(\"bright\", 2));"
   ]
  },
  {
   "cell_type": "code",
   "execution_count": 225,
   "metadata": {},
   "outputs": [
    {
     "data": {
      "image/png": "[encoded data removed]",
      "text/plain": [
       "<Figure size 560.236x500 with 1 Axes>"
      ]
     },
     "metadata": {},
     "output_type": "display_data"
    }
   ],
   "source": [
    "# Is there a dependancy between income and default?\n",
    "sns.displot(df, x=\"income\", hue=\"default\", kind=\"kde\", common_norm=False, palette=sns.color_palette(\"bright\", 2));"
   ]
  },
  {
   "cell_type": "code",
   "execution_count": 232,
   "metadata": {},
   "outputs": [
    {
     "data": {
      "image/png": "[encoded data removed]",
      "text/plain": [
       "<Figure size 640x480 with 1 Axes>"
      ]
     },
     "metadata": {},
     "output_type": "display_data"
    }
   ],
   "source": [
    "# Seems like women tend to default more frequently than men\n",
    "df.groupby(\"sex\").default.mean().plot(kind=\"bar\", title=\"default rate per sex\");"
   ]
  },
  {
   "cell_type": "code",
   "execution_count": 233,
   "metadata": {},
   "outputs": [
    {
     "data": {
      "image/png": "[encoded data removed]",
      "text/plain": [
       "<Figure size 560.236x500 with 1 Axes>"
      ]
     },
     "metadata": {},
     "output_type": "display_data"
    }
   ],
   "source": [
    "# Is there a dependancy between age and default?\n",
    "sns.displot(df, x=\"age\", hue=\"default\", kind=\"kde\", common_norm=False, palette=sns.color_palette(\"bright\", 2));"
   ]
  },
  {
   "cell_type": "code",
   "execution_count": 277,
   "metadata": {},
   "outputs": [
    {
     "data": {
      "text/plain": [
       "defaulted_earlier\n",
       "0    0.070502\n",
       "1    0.569281\n",
       "Name: default, dtype: float64"
      ]
     },
     "execution_count": 277,
     "metadata": {},
     "output_type": "execute_result"
    }
   ],
   "source": [
    "# Customers who defaulted earlier tend to go default more?\n",
    "df.sort_values([\"customerID\", \"transactionID\"], inplace=True)\n",
    "df[\"defaulted_earlier\"] = np.where(df.sort_values(\"transactionID\").groupby([\"customerID\"]).default.expanding().sum().values > 1, 1, 0)\n",
    "df.reset_index(drop=True, inplace=True)\n",
    "\n",
    "df.groupby(\"defaulted_earlier\").default.mean()"
   ]
  },
  {
   "cell_type": "code",
   "execution_count": 290,
   "metadata": {},
   "outputs": [
    {
     "data": {
      "text/plain": [
       "late_earlier\n",
       "0    0.064710\n",
       "1    0.087264\n",
       "Name: default, dtype: float64"
      ]
     },
     "execution_count": 290,
     "metadata": {},
     "output_type": "execute_result"
    }
   ],
   "source": [
    "# Customers who went to overdue earlier tend to go default more?\n",
    "pstatuses = [\"paytmentStatus1\",\"paytmentStatus2\",\"paytmentStatus3\",\"paytmentStatus4\"] \n",
    "df[\"late\"] = np.where(df[pstatuses].max(axis=1) > 0, 1, 0)\n",
    "df[\"late_earlier\"] = np.where(df.sort_values(\"transactionID\").groupby([\"customerID\"]).late.expanding().sum().values > 1, 1, 0)\n",
    "\n",
    "df[df.defaulted_earlier == 0].groupby(\"late_earlier\").default.mean()"
   ]
  },
  {
   "cell_type": "code",
   "execution_count": 281,
   "metadata": {},
   "outputs": [
    {
     "data": {
      "text/html": [
       "<div>\n",
       "<style scoped>\n",
       "    .dataframe tbody tr th:only-of-type {\n",
       "        vertical-align: middle;\n",
       "    }\n",
       "\n",
       "    .dataframe tbody tr th {\n",
       "        vertical-align: top;\n",
       "    }\n",
       "\n",
       "    .dataframe thead th {\n",
       "        text-align: right;\n",
       "    }\n",
       "</style>\n",
       "<table border=\"1\" class=\"dataframe\">\n",
       "  <thead>\n",
       "    <tr style=\"text-align: right;\">\n",
       "      <th></th>\n",
       "      <th>transactionID</th>\n",
       "      <th>shopID</th>\n",
       "      <th>customerID</th>\n",
       "      <th>price</th>\n",
       "      <th>paytmentStatus1</th>\n",
       "      <th>paytmentStatus2</th>\n",
       "      <th>paytmentStatus3</th>\n",
       "      <th>paytmentStatus4</th>\n",
       "      <th>sex</th>\n",
       "      <th>age</th>\n",
       "      <th>residentialAddress</th>\n",
       "      <th>postalAddress</th>\n",
       "      <th>income</th>\n",
       "      <th>default</th>\n",
       "      <th>defaulted_earlier</th>\n",
       "      <th>late</th>\n",
       "      <th>late_earlier</th>\n",
       "    </tr>\n",
       "  </thead>\n",
       "  <tbody>\n",
       "    <tr>\n",
       "      <th>0</th>\n",
       "      <td>119294</td>\n",
       "      <td>634</td>\n",
       "      <td>1</td>\n",
       "      <td>88</td>\n",
       "      <td>0</td>\n",
       "      <td>0</td>\n",
       "      <td>0</td>\n",
       "      <td>0</td>\n",
       "      <td>1</td>\n",
       "      <td>25</td>\n",
       "      <td>28 Irvine Place</td>\n",
       "      <td>28 Irvine Place</td>\n",
       "      <td>NaN</td>\n",
       "      <td>0</td>\n",
       "      <td>0</td>\n",
       "      <td>0</td>\n",
       "      <td>0</td>\n",
       "    </tr>\n",
       "    <tr>\n",
       "      <th>1</th>\n",
       "      <td>832074</td>\n",
       "      <td>942</td>\n",
       "      <td>1</td>\n",
       "      <td>177</td>\n",
       "      <td>1</td>\n",
       "      <td>0</td>\n",
       "      <td>0</td>\n",
       "      <td>0</td>\n",
       "      <td>1</td>\n",
       "      <td>25</td>\n",
       "      <td>28 Irvine Place</td>\n",
       "      <td>28 Irvine Place</td>\n",
       "      <td>NaN</td>\n",
       "      <td>0</td>\n",
       "      <td>0</td>\n",
       "      <td>1</td>\n",
       "      <td>0</td>\n",
       "    </tr>\n",
       "    <tr>\n",
       "      <th>2</th>\n",
       "      <td>868540</td>\n",
       "      <td>361</td>\n",
       "      <td>1</td>\n",
       "      <td>93</td>\n",
       "      <td>0</td>\n",
       "      <td>0</td>\n",
       "      <td>0</td>\n",
       "      <td>0</td>\n",
       "      <td>1</td>\n",
       "      <td>25</td>\n",
       "      <td>28 Irvine Place</td>\n",
       "      <td>28 Irvine Place</td>\n",
       "      <td>NaN</td>\n",
       "      <td>0</td>\n",
       "      <td>0</td>\n",
       "      <td>0</td>\n",
       "      <td>0</td>\n",
       "    </tr>\n",
       "    <tr>\n",
       "      <th>3</th>\n",
       "      <td>1697842</td>\n",
       "      <td>248</td>\n",
       "      <td>1</td>\n",
       "      <td>147</td>\n",
       "      <td>0</td>\n",
       "      <td>0</td>\n",
       "      <td>0</td>\n",
       "      <td>0</td>\n",
       "      <td>1</td>\n",
       "      <td>25</td>\n",
       "      <td>28 Irvine Place</td>\n",
       "      <td>28 Irvine Place</td>\n",
       "      <td>NaN</td>\n",
       "      <td>0</td>\n",
       "      <td>0</td>\n",
       "      <td>0</td>\n",
       "      <td>0</td>\n",
       "    </tr>\n",
       "    <tr>\n",
       "      <th>4</th>\n",
       "      <td>983409</td>\n",
       "      <td>741</td>\n",
       "      <td>2</td>\n",
       "      <td>71</td>\n",
       "      <td>1</td>\n",
       "      <td>0</td>\n",
       "      <td>0</td>\n",
       "      <td>0</td>\n",
       "      <td>1</td>\n",
       "      <td>19</td>\n",
       "      <td>72 Bertha Street</td>\n",
       "      <td>72 Bertha Street</td>\n",
       "      <td>43200.0</td>\n",
       "      <td>0</td>\n",
       "      <td>0</td>\n",
       "      <td>1</td>\n",
       "      <td>0</td>\n",
       "    </tr>\n",
       "  </tbody>\n",
       "</table>\n",
       "</div>"
      ],
      "text/plain": [
       "   transactionID  shopID  customerID  price  paytmentStatus1  paytmentStatus2  \\\n",
       "0         119294     634           1     88                0                0   \n",
       "1         832074     942           1    177                1                0   \n",
       "2         868540     361           1     93                0                0   \n",
       "3        1697842     248           1    147                0                0   \n",
       "4         983409     741           2     71                1                0   \n",
       "\n",
       "   paytmentStatus3  paytmentStatus4  sex  age residentialAddress  \\\n",
       "0                0                0    1   25    28 Irvine Place   \n",
       "1                0                0    1   25    28 Irvine Place   \n",
       "2                0                0    1   25    28 Irvine Place   \n",
       "3                0                0    1   25    28 Irvine Place   \n",
       "4                0                0    1   19   72 Bertha Street   \n",
       "\n",
       "      postalAddress   income  default  defaulted_earlier  late  late_earlier  \n",
       "0   28 Irvine Place      NaN        0                  0     0             0  \n",
       "1   28 Irvine Place      NaN        0                  0     1             0  \n",
       "2   28 Irvine Place      NaN        0                  0     0             0  \n",
       "3   28 Irvine Place      NaN        0                  0     0             0  \n",
       "4  72 Bertha Street  43200.0        0                  0     1             0  "
      ]
     },
     "execution_count": 281,
     "metadata": {},
     "output_type": "execute_result"
    }
   ],
   "source": [
    "df.head()"
   ]
  },
  {
   "cell_type": "markdown",
   "metadata": {},
   "source": [
    "#### **Main conclusions after EDA**\n",
    "\n",
    "- Data seems to be synthetical, `price` and `income` look like randomly sampled from Uniform distribution from some range.\n",
    "- There is a high dependancy between `sex` and tendency to `default`. Women tend to go default more.\n",
    "- `Age` variable has very strange distribution, there are almost no customers of middle age. Besides, there is no dependancy of `default` from `age`. Moreover there is no dependancy of `income` of `age`, which is probably a result of artificially created data.\n",
    "- Clients who were in default previously tend to default again with probability over 56%. Those who were late with an installment for previous loans tend to default more than those without any overdue in history, even though the difference is not huge.\n",
    "- `customerID` should not be used as a feature, because we want to use a model for new customers, besides, this variable has quite high dimensionality.\n",
    "- There is no strong dependancy between being just late with instalment and going to default. In other words, if the customer has an overdue, still with high probability he/she will pay the loan and most probably in time."
   ]
  },
  {
   "cell_type": "code",
   "execution_count": 339,
   "metadata": {},
   "outputs": [
    {
     "data": {
      "text/html": [
       "<div>\n",
       "<style scoped>\n",
       "    .dataframe tbody tr th:only-of-type {\n",
       "        vertical-align: middle;\n",
       "    }\n",
       "\n",
       "    .dataframe tbody tr th {\n",
       "        vertical-align: top;\n",
       "    }\n",
       "\n",
       "    .dataframe thead th {\n",
       "        text-align: right;\n",
       "    }\n",
       "</style>\n",
       "<table border=\"1\" class=\"dataframe\">\n",
       "  <thead>\n",
       "    <tr style=\"text-align: right;\">\n",
       "      <th></th>\n",
       "      <th>shopID</th>\n",
       "      <th>customerID</th>\n",
       "      <th>price</th>\n",
       "      <th>paytmentStatus1</th>\n",
       "      <th>paytmentStatus2</th>\n",
       "      <th>paytmentStatus3</th>\n",
       "      <th>paytmentStatus4</th>\n",
       "      <th>sex</th>\n",
       "      <th>age</th>\n",
       "      <th>income</th>\n",
       "      <th>default</th>\n",
       "      <th>defaulted_earlier</th>\n",
       "      <th>late</th>\n",
       "      <th>late_earlier</th>\n",
       "      <th>price_income</th>\n",
       "    </tr>\n",
       "  </thead>\n",
       "  <tbody>\n",
       "    <tr>\n",
       "      <th>count</th>\n",
       "      <td>1.979983e+06</td>\n",
       "      <td>1.979983e+06</td>\n",
       "      <td>1.979983e+06</td>\n",
       "      <td>1.979983e+06</td>\n",
       "      <td>1.979983e+06</td>\n",
       "      <td>1.979983e+06</td>\n",
       "      <td>1.979983e+06</td>\n",
       "      <td>1.979983e+06</td>\n",
       "      <td>1.979983e+06</td>\n",
       "      <td>1.940494e+06</td>\n",
       "      <td>1.979983e+06</td>\n",
       "      <td>1.979983e+06</td>\n",
       "      <td>1.979983e+06</td>\n",
       "      <td>1.979983e+06</td>\n",
       "      <td>1940494.00</td>\n",
       "    </tr>\n",
       "    <tr>\n",
       "      <th>mean</th>\n",
       "      <td>5.492294e+02</td>\n",
       "      <td>2.500951e+05</td>\n",
       "      <td>1.015208e+02</td>\n",
       "      <td>1.175833e-01</td>\n",
       "      <td>1.473851e-01</td>\n",
       "      <td>1.896400e-01</td>\n",
       "      <td>2.685341e-01</td>\n",
       "      <td>1.150208e+00</td>\n",
       "      <td>4.463079e+01</td>\n",
       "      <td>4.999000e+04</td>\n",
       "      <td>9.203261e-02</td>\n",
       "      <td>4.316754e-02</td>\n",
       "      <td>3.713441e-01</td>\n",
       "      <td>2.888717e-01</td>\n",
       "      <td>inf</td>\n",
       "    </tr>\n",
       "    <tr>\n",
       "      <th>std</th>\n",
       "      <td>2.598552e+02</td>\n",
       "      <td>1.442889e+05</td>\n",
       "      <td>5.717817e+01</td>\n",
       "      <td>3.607263e-01</td>\n",
       "      <td>4.278684e-01</td>\n",
       "      <td>5.054030e-01</td>\n",
       "      <td>6.168379e-01</td>\n",
       "      <td>4.783529e-01</td>\n",
       "      <td>1.617545e+01</td>\n",
       "      <td>2.890984e+04</td>\n",
       "      <td>2.890720e-01</td>\n",
       "      <td>2.032342e-01</td>\n",
       "      <td>4.831643e-01</td>\n",
       "      <td>4.532383e-01</td>\n",
       "      <td>NaN</td>\n",
       "    </tr>\n",
       "    <tr>\n",
       "      <th>min</th>\n",
       "      <td>1.000000e+02</td>\n",
       "      <td>1.000000e+00</td>\n",
       "      <td>3.000000e+00</td>\n",
       "      <td>0.000000e+00</td>\n",
       "      <td>0.000000e+00</td>\n",
       "      <td>0.000000e+00</td>\n",
       "      <td>0.000000e+00</td>\n",
       "      <td>0.000000e+00</td>\n",
       "      <td>5.000000e+00</td>\n",
       "      <td>0.000000e+00</td>\n",
       "      <td>0.000000e+00</td>\n",
       "      <td>0.000000e+00</td>\n",
       "      <td>0.000000e+00</td>\n",
       "      <td>0.000000e+00</td>\n",
       "      <td>0.00</td>\n",
       "    </tr>\n",
       "    <tr>\n",
       "      <th>25%</th>\n",
       "      <td>3.240000e+02</td>\n",
       "      <td>1.251390e+05</td>\n",
       "      <td>5.200000e+01</td>\n",
       "      <td>0.000000e+00</td>\n",
       "      <td>0.000000e+00</td>\n",
       "      <td>0.000000e+00</td>\n",
       "      <td>0.000000e+00</td>\n",
       "      <td>1.000000e+00</td>\n",
       "      <td>2.700000e+01</td>\n",
       "      <td>2.490000e+04</td>\n",
       "      <td>0.000000e+00</td>\n",
       "      <td>0.000000e+00</td>\n",
       "      <td>0.000000e+00</td>\n",
       "      <td>0.000000e+00</td>\n",
       "      <td>0.10</td>\n",
       "    </tr>\n",
       "    <tr>\n",
       "      <th>50%</th>\n",
       "      <td>5.490000e+02</td>\n",
       "      <td>2.500960e+05</td>\n",
       "      <td>1.020000e+02</td>\n",
       "      <td>0.000000e+00</td>\n",
       "      <td>0.000000e+00</td>\n",
       "      <td>0.000000e+00</td>\n",
       "      <td>0.000000e+00</td>\n",
       "      <td>1.000000e+00</td>\n",
       "      <td>5.000000e+01</td>\n",
       "      <td>5.000000e+04</td>\n",
       "      <td>0.000000e+00</td>\n",
       "      <td>0.000000e+00</td>\n",
       "      <td>0.000000e+00</td>\n",
       "      <td>0.000000e+00</td>\n",
       "      <td>0.20</td>\n",
       "    </tr>\n",
       "    <tr>\n",
       "      <th>75%</th>\n",
       "      <td>7.740000e+02</td>\n",
       "      <td>3.750930e+05</td>\n",
       "      <td>1.510000e+02</td>\n",
       "      <td>0.000000e+00</td>\n",
       "      <td>0.000000e+00</td>\n",
       "      <td>0.000000e+00</td>\n",
       "      <td>0.000000e+00</td>\n",
       "      <td>1.000000e+00</td>\n",
       "      <td>5.800000e+01</td>\n",
       "      <td>7.500000e+04</td>\n",
       "      <td>0.000000e+00</td>\n",
       "      <td>0.000000e+00</td>\n",
       "      <td>1.000000e+00</td>\n",
       "      <td>1.000000e+00</td>\n",
       "      <td>0.41</td>\n",
       "    </tr>\n",
       "    <tr>\n",
       "      <th>max</th>\n",
       "      <td>9.990000e+02</td>\n",
       "      <td>5.000000e+05</td>\n",
       "      <td>2.000000e+02</td>\n",
       "      <td>2.000000e+00</td>\n",
       "      <td>2.000000e+00</td>\n",
       "      <td>2.000000e+00</td>\n",
       "      <td>2.000000e+00</td>\n",
       "      <td>2.000000e+00</td>\n",
       "      <td>9.000000e+01</td>\n",
       "      <td>1.000000e+05</td>\n",
       "      <td>1.000000e+00</td>\n",
       "      <td>1.000000e+00</td>\n",
       "      <td>1.000000e+00</td>\n",
       "      <td>1.000000e+00</td>\n",
       "      <td>inf</td>\n",
       "    </tr>\n",
       "  </tbody>\n",
       "</table>\n",
       "</div>"
      ],
      "text/plain": [
       "             shopID    customerID         price  paytmentStatus1  \\\n",
       "count  1.979983e+06  1.979983e+06  1.979983e+06     1.979983e+06   \n",
       "mean   5.492294e+02  2.500951e+05  1.015208e+02     1.175833e-01   \n",
       "std    2.598552e+02  1.442889e+05  5.717817e+01     3.607263e-01   \n",
       "min    1.000000e+02  1.000000e+00  3.000000e+00     0.000000e+00   \n",
       "25%    3.240000e+02  1.251390e+05  5.200000e+01     0.000000e+00   \n",
       "50%    5.490000e+02  2.500960e+05  1.020000e+02     0.000000e+00   \n",
       "75%    7.740000e+02  3.750930e+05  1.510000e+02     0.000000e+00   \n",
       "max    9.990000e+02  5.000000e+05  2.000000e+02     2.000000e+00   \n",
       "\n",
       "       paytmentStatus2  paytmentStatus3  paytmentStatus4           sex  \\\n",
       "count     1.979983e+06     1.979983e+06     1.979983e+06  1.979983e+06   \n",
       "mean      1.473851e-01     1.896400e-01     2.685341e-01  1.150208e+00   \n",
       "std       4.278684e-01     5.054030e-01     6.168379e-01  4.783529e-01   \n",
       "min       0.000000e+00     0.000000e+00     0.000000e+00  0.000000e+00   \n",
       "25%       0.000000e+00     0.000000e+00     0.000000e+00  1.000000e+00   \n",
       "50%       0.000000e+00     0.000000e+00     0.000000e+00  1.000000e+00   \n",
       "75%       0.000000e+00     0.000000e+00     0.000000e+00  1.000000e+00   \n",
       "max       2.000000e+00     2.000000e+00     2.000000e+00  2.000000e+00   \n",
       "\n",
       "                age        income       default  defaulted_earlier  \\\n",
       "count  1.979983e+06  1.940494e+06  1.979983e+06       1.979983e+06   \n",
       "mean   4.463079e+01  4.999000e+04  9.203261e-02       4.316754e-02   \n",
       "std    1.617545e+01  2.890984e+04  2.890720e-01       2.032342e-01   \n",
       "min    5.000000e+00  0.000000e+00  0.000000e+00       0.000000e+00   \n",
       "25%    2.700000e+01  2.490000e+04  0.000000e+00       0.000000e+00   \n",
       "50%    5.000000e+01  5.000000e+04  0.000000e+00       0.000000e+00   \n",
       "75%    5.800000e+01  7.500000e+04  0.000000e+00       0.000000e+00   \n",
       "max    9.000000e+01  1.000000e+05  1.000000e+00       1.000000e+00   \n",
       "\n",
       "               late  late_earlier  price_income  \n",
       "count  1.979983e+06  1.979983e+06    1940494.00  \n",
       "mean   3.713441e-01  2.888717e-01           inf  \n",
       "std    4.831643e-01  4.532383e-01           NaN  \n",
       "min    0.000000e+00  0.000000e+00          0.00  \n",
       "25%    0.000000e+00  0.000000e+00          0.10  \n",
       "50%    0.000000e+00  0.000000e+00          0.20  \n",
       "75%    1.000000e+00  1.000000e+00          0.41  \n",
       "max    1.000000e+00  1.000000e+00           inf  "
      ]
     },
     "execution_count": 339,
     "metadata": {},
     "output_type": "execute_result"
    }
   ],
   "source": [
    "df.describe()"
   ]
  },
  {
   "cell_type": "code",
   "execution_count": 346,
   "metadata": {},
   "outputs": [
    {
     "data": {
      "text/plain": [
       "count    1979983.00000\n",
       "mean         101.52084\n",
       "std           57.17817\n",
       "min            3.00000\n",
       "1%             4.00000\n",
       "10%           22.00000\n",
       "15%           32.00000\n",
       "50%          102.00000\n",
       "max          200.00000\n",
       "Name: price, dtype: object"
      ]
     },
     "execution_count": 346,
     "metadata": {},
     "output_type": "execute_result"
    }
   ],
   "source": [
    "df.price.describe(percentiles=[0.01, 0.1, 0.15]).apply(\"{0:.5f}\".format)"
   ]
  }
 ],
 "metadata": {
  "kernelspec": {
   "display_name": "Python 3.8.10 ('viabill_case-M7Ih3SRr')",
   "language": "python",
   "name": "python3"
  },
  "language_info": {
   "codemirror_mode": {
    "name": "ipython",
    "version": 3
   },
   "file_extension": ".py",
   "mimetype": "text/x-python",
   "name": "python",
   "nbconvert_exporter": "python",
   "pygments_lexer": "ipython3",
   "version": "3.8.10"
  },
  "vscode": {
   "interpreter": {
    "hash": "eb13fe851d0df1c68d65645803cd1ef002e7b336c66dbc67e9a0bf74686096df"
   }
  }
 },
 "nbformat": 4,
 "nbformat_minor": 4
}
