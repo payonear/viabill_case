{
 "cells": [
  {
   "cell_type": "markdown",
   "metadata": {},
   "source": [
    "### Import libraries"
   ]
  },
  {
   "cell_type": "code",
   "execution_count": 41,
   "metadata": {},
   "outputs": [],
   "source": [
    "import pandas as pd\n",
    "import seaborn as sns\n",
    "from utils.data_utils import connect_to_db"
   ]
  },
  {
   "cell_type": "markdown",
   "metadata": {},
   "source": [
    "### Connect to Database"
   ]
  },
  {
   "cell_type": "code",
   "execution_count": 42,
   "metadata": {},
   "outputs": [
    {
     "name": "stderr",
     "output_type": "stream",
     "text": [
      "INFO:root:SQL engine is created.\n",
      "INFO:root:2 tables found inside database viabill.db\n"
     ]
    },
    {
     "name": "stdout",
     "output_type": "stream",
     "text": [
      "Available tables: ['customers', 'transactions']\n"
     ]
    }
   ],
   "source": [
    "engine, inspector, tables_in_db = connect_to_db()\n",
    "print(f\"Available tables: {tables_in_db}\")"
   ]
  },
  {
   "cell_type": "markdown",
   "metadata": {},
   "source": [
    "### Load extension for SQL queries"
   ]
  },
  {
   "cell_type": "code",
   "execution_count": 3,
   "metadata": {},
   "outputs": [],
   "source": [
    "%load_ext sql"
   ]
  },
  {
   "cell_type": "code",
   "execution_count": 4,
   "metadata": {},
   "outputs": [],
   "source": [
    "%sql sqlite:///data/viabill.db"
   ]
  },
  {
   "cell_type": "markdown",
   "metadata": {},
   "source": [
    "### Make sure we can query tables with SQL"
   ]
  },
  {
   "cell_type": "code",
   "execution_count": 5,
   "metadata": {},
   "outputs": [
    {
     "name": "stdout",
     "output_type": "stream",
     "text": [
      " * sqlite:///data/viabill.db\n",
      "Done.\n"
     ]
    },
    {
     "data": {
      "text/html": [
       "<table>\n",
       "    <tr>\n",
       "        <th>customerID</th>\n",
       "        <th>sex</th>\n",
       "        <th>age</th>\n",
       "        <th>residentialAddress</th>\n",
       "        <th>postalAddress</th>\n",
       "        <th>income</th>\n",
       "    </tr>\n",
       "    <tr>\n",
       "        <td>1</td>\n",
       "        <td>1</td>\n",
       "        <td>25</td>\n",
       "        <td>28 Irvine Place</td>\n",
       "        <td>28 Irvine Place</td>\n",
       "        <td>None</td>\n",
       "    </tr>\n",
       "    <tr>\n",
       "        <td>2</td>\n",
       "        <td>1</td>\n",
       "        <td>19</td>\n",
       "        <td>72 Bertha Street</td>\n",
       "        <td>72 Bertha Street</td>\n",
       "        <td>43200</td>\n",
       "    </tr>\n",
       "    <tr>\n",
       "        <td>3</td>\n",
       "        <td>2</td>\n",
       "        <td>22</td>\n",
       "        <td>63 Ladberry Street</td>\n",
       "        <td>63 Ladberry Street</td>\n",
       "        <td>70200</td>\n",
       "    </tr>\n",
       "    <tr>\n",
       "        <td>4</td>\n",
       "        <td>0</td>\n",
       "        <td>24</td>\n",
       "        <td>98 Linneman Close</td>\n",
       "        <td>98 Linneman Close</td>\n",
       "        <td>93900</td>\n",
       "    </tr>\n",
       "    <tr>\n",
       "        <td>5</td>\n",
       "        <td>1</td>\n",
       "        <td>53</td>\n",
       "        <td>56 Salonica Road</td>\n",
       "        <td>56 Salonica Road</td>\n",
       "        <td>77000</td>\n",
       "    </tr>\n",
       "</table>"
      ],
      "text/plain": [
       "[(1, 1, 25, '28 Irvine Place', '28 Irvine Place', None),\n",
       " (2, 1, 19, '72 Bertha Street', '72 Bertha Street', 43200),\n",
       " (3, 2, 22, '63 Ladberry Street', '63 Ladberry Street', 70200),\n",
       " (4, 0, 24, '98 Linneman Close', '98 Linneman Close', 93900),\n",
       " (5, 1, 53, '56 Salonica Road', '56 Salonica Road', 77000)]"
      ]
     },
     "execution_count": 5,
     "metadata": {},
     "output_type": "execute_result"
    }
   ],
   "source": [
    "%%sql\n",
    "SELECT * FROM customers\n",
    "LIMIT 5"
   ]
  },
  {
   "cell_type": "code",
   "execution_count": 6,
   "metadata": {},
   "outputs": [
    {
     "name": "stdout",
     "output_type": "stream",
     "text": [
      " * sqlite:///data/viabill.db\n",
      "Done.\n"
     ]
    },
    {
     "data": {
      "text/html": [
       "<table>\n",
       "    <tr>\n",
       "        <th>count(*)</th>\n",
       "        <th>count(distinct customerID)</th>\n",
       "    </tr>\n",
       "    <tr>\n",
       "        <td>500000</td>\n",
       "        <td>500000</td>\n",
       "    </tr>\n",
       "</table>"
      ],
      "text/plain": [
       "[(500000, 500000)]"
      ]
     },
     "execution_count": 6,
     "metadata": {},
     "output_type": "execute_result"
    }
   ],
   "source": [
    "%%sql\n",
    "SELECT count(*), count(distinct customerID) FROM customers"
   ]
  },
  {
   "cell_type": "code",
   "execution_count": 7,
   "metadata": {},
   "outputs": [
    {
     "name": "stdout",
     "output_type": "stream",
     "text": [
      " * sqlite:///data/viabill.db\n",
      "Done.\n"
     ]
    },
    {
     "data": {
      "text/html": [
       "<table>\n",
       "    <tr>\n",
       "        <th>transactionID</th>\n",
       "        <th>shopID</th>\n",
       "        <th>customerID</th>\n",
       "        <th>price</th>\n",
       "        <th>paytmentStatus1</th>\n",
       "        <th>paytmentStatus2</th>\n",
       "        <th>paytmentStatus3</th>\n",
       "        <th>paytmentStatus4</th>\n",
       "    </tr>\n",
       "    <tr>\n",
       "        <td>1</td>\n",
       "        <td>114</td>\n",
       "        <td>2869</td>\n",
       "        <td>140</td>\n",
       "        <td>0</td>\n",
       "        <td>0</td>\n",
       "        <td>0</td>\n",
       "        <td>0</td>\n",
       "    </tr>\n",
       "    <tr>\n",
       "        <td>2</td>\n",
       "        <td>855</td>\n",
       "        <td>124077</td>\n",
       "        <td>70</td>\n",
       "        <td>0</td>\n",
       "        <td>0</td>\n",
       "        <td>0</td>\n",
       "        <td>0</td>\n",
       "    </tr>\n",
       "    <tr>\n",
       "        <td>3</td>\n",
       "        <td>752</td>\n",
       "        <td>86184</td>\n",
       "        <td>85</td>\n",
       "        <td>0</td>\n",
       "        <td>0</td>\n",
       "        <td>0</td>\n",
       "        <td>0</td>\n",
       "    </tr>\n",
       "    <tr>\n",
       "        <td>4</td>\n",
       "        <td>246</td>\n",
       "        <td>248861</td>\n",
       "        <td>43</td>\n",
       "        <td>1</td>\n",
       "        <td>0</td>\n",
       "        <td>0</td>\n",
       "        <td>0</td>\n",
       "    </tr>\n",
       "    <tr>\n",
       "        <td>5</td>\n",
       "        <td>973</td>\n",
       "        <td>162112</td>\n",
       "        <td>127</td>\n",
       "        <td>0</td>\n",
       "        <td>0</td>\n",
       "        <td>0</td>\n",
       "        <td>0</td>\n",
       "    </tr>\n",
       "</table>"
      ],
      "text/plain": [
       "[(1, 114, 2869, 140, 0, 0, 0, 0),\n",
       " (2, 855, 124077, 70, 0, 0, 0, 0),\n",
       " (3, 752, 86184, 85, 0, 0, 0, 0),\n",
       " (4, 246, 248861, 43, 1, 0, 0, 0),\n",
       " (5, 973, 162112, 127, 0, 0, 0, 0)]"
      ]
     },
     "execution_count": 7,
     "metadata": {},
     "output_type": "execute_result"
    }
   ],
   "source": [
    "%%sql\n",
    "SELECT * FROM transactions\n",
    "LIMIT 5"
   ]
  },
  {
   "cell_type": "markdown",
   "metadata": {},
   "source": [
    "### Task 1 and 2"
   ]
  },
  {
   "cell_type": "markdown",
   "metadata": {},
   "source": [
    "**1.Select transactions that you use as credit applications (write SQL query):**\n",
    "    \n",
    "a. select the last transaction (transactionID increases with time) for each customer in Transaction table <br>\n",
    "b. join result from previous point with customer Income - if Income is Missing replace it with -999 value\n",
    "\n",
    "**2.Create a new feature based on transaction data - using Python or/and SQL:**\n",
    "\n",
    "a. create “trans_price_avg_lst3” – for credit applications (transactions selected in point 1)\n",
    "calculate a value that present an average price of 3 previous transactions"
   ]
  },
  {
   "cell_type": "code",
   "execution_count": 21,
   "metadata": {},
   "outputs": [
    {
     "name": "stdout",
     "output_type": "stream",
     "text": [
      " * sqlite:///data/viabill.db\n",
      "Done.\n"
     ]
    },
    {
     "data": {
      "text/html": [
       "<table>\n",
       "    <tr>\n",
       "        <th>transactionID</th>\n",
       "        <th>shopID</th>\n",
       "        <th>customerID</th>\n",
       "        <th>price</th>\n",
       "        <th>paytmentStatus1</th>\n",
       "        <th>paytmentStatus2</th>\n",
       "        <th>paytmentStatus3</th>\n",
       "        <th>paytmentStatus4</th>\n",
       "        <th>trans_price_avg_lst3</th>\n",
       "        <th>income</th>\n",
       "    </tr>\n",
       "    <tr>\n",
       "        <td>1697842</td>\n",
       "        <td>248</td>\n",
       "        <td>1</td>\n",
       "        <td>147</td>\n",
       "        <td>0</td>\n",
       "        <td>0</td>\n",
       "        <td>0</td>\n",
       "        <td>0</td>\n",
       "        <td>119.33333333333333</td>\n",
       "        <td>-999</td>\n",
       "    </tr>\n",
       "    <tr>\n",
       "        <td>1834257</td>\n",
       "        <td>392</td>\n",
       "        <td>2</td>\n",
       "        <td>150</td>\n",
       "        <td>0</td>\n",
       "        <td>0</td>\n",
       "        <td>0</td>\n",
       "        <td>0</td>\n",
       "        <td>98.33333333333333</td>\n",
       "        <td>43200</td>\n",
       "    </tr>\n",
       "    <tr>\n",
       "        <td>1974624</td>\n",
       "        <td>396</td>\n",
       "        <td>3</td>\n",
       "        <td>140</td>\n",
       "        <td>0</td>\n",
       "        <td>0</td>\n",
       "        <td>0</td>\n",
       "        <td>0</td>\n",
       "        <td>114.33333333333333</td>\n",
       "        <td>70200</td>\n",
       "    </tr>\n",
       "    <tr>\n",
       "        <td>1536291</td>\n",
       "        <td>544</td>\n",
       "        <td>4</td>\n",
       "        <td>136</td>\n",
       "        <td>0</td>\n",
       "        <td>1</td>\n",
       "        <td>0</td>\n",
       "        <td>0</td>\n",
       "        <td>None</td>\n",
       "        <td>93900</td>\n",
       "    </tr>\n",
       "    <tr>\n",
       "        <td>661121</td>\n",
       "        <td>984</td>\n",
       "        <td>5</td>\n",
       "        <td>181</td>\n",
       "        <td>0</td>\n",
       "        <td>0</td>\n",
       "        <td>0</td>\n",
       "        <td>0</td>\n",
       "        <td>64.33333333333333</td>\n",
       "        <td>77000</td>\n",
       "    </tr>\n",
       "    <tr>\n",
       "        <td>1964705</td>\n",
       "        <td>533</td>\n",
       "        <td>6</td>\n",
       "        <td>33</td>\n",
       "        <td>0</td>\n",
       "        <td>0</td>\n",
       "        <td>0</td>\n",
       "        <td>0</td>\n",
       "        <td>190.0</td>\n",
       "        <td>77500</td>\n",
       "    </tr>\n",
       "    <tr>\n",
       "        <td>313094</td>\n",
       "        <td>759</td>\n",
       "        <td>7</td>\n",
       "        <td>195</td>\n",
       "        <td>0</td>\n",
       "        <td>0</td>\n",
       "        <td>0</td>\n",
       "        <td>0</td>\n",
       "        <td>None</td>\n",
       "        <td>13600</td>\n",
       "    </tr>\n",
       "    <tr>\n",
       "        <td>1848871</td>\n",
       "        <td>123</td>\n",
       "        <td>9</td>\n",
       "        <td>31</td>\n",
       "        <td>0</td>\n",
       "        <td>0</td>\n",
       "        <td>0</td>\n",
       "        <td>0</td>\n",
       "        <td>105.5</td>\n",
       "        <td>2700</td>\n",
       "    </tr>\n",
       "    <tr>\n",
       "        <td>1854937</td>\n",
       "        <td>461</td>\n",
       "        <td>10</td>\n",
       "        <td>5</td>\n",
       "        <td>0</td>\n",
       "        <td>0</td>\n",
       "        <td>0</td>\n",
       "        <td>2</td>\n",
       "        <td>90.33333333333333</td>\n",
       "        <td>80000</td>\n",
       "    </tr>\n",
       "    <tr>\n",
       "        <td>696173</td>\n",
       "        <td>447</td>\n",
       "        <td>11</td>\n",
       "        <td>42</td>\n",
       "        <td>0</td>\n",
       "        <td>0</td>\n",
       "        <td>0</td>\n",
       "        <td>0</td>\n",
       "        <td>133.5</td>\n",
       "        <td>57000</td>\n",
       "    </tr>\n",
       "</table>"
      ],
      "text/plain": [
       "[(1697842, 248, 1, 147, 0, 0, 0, 0, 119.33333333333333, -999),\n",
       " (1834257, 392, 2, 150, 0, 0, 0, 0, 98.33333333333333, 43200),\n",
       " (1974624, 396, 3, 140, 0, 0, 0, 0, 114.33333333333333, 70200),\n",
       " (1536291, 544, 4, 136, 0, 1, 0, 0, None, 93900),\n",
       " (661121, 984, 5, 181, 0, 0, 0, 0, 64.33333333333333, 77000),\n",
       " (1964705, 533, 6, 33, 0, 0, 0, 0, 190.0, 77500),\n",
       " (313094, 759, 7, 195, 0, 0, 0, 0, None, 13600),\n",
       " (1848871, 123, 9, 31, 0, 0, 0, 0, 105.5, 2700),\n",
       " (1854937, 461, 10, 5, 0, 0, 0, 2, 90.33333333333333, 80000),\n",
       " (696173, 447, 11, 42, 0, 0, 0, 0, 133.5, 57000)]"
      ]
     },
     "execution_count": 21,
     "metadata": {},
     "output_type": "execute_result"
    }
   ],
   "source": [
    "%%sql\n",
    "WITH last_transaction as (\n",
    "        SELECT customerID, max(transactionID) as last_transactionID\n",
    "        FROM transactions\n",
    "        GROUP BY customerID\n",
    "),\n",
    "\n",
    "last_three_transactions as (\n",
    "        SELECT t.*, avg(price) OVER (PARTITION BY t.customerID ORDER BY transactionID ROWS BETWEEN 3 PRECEDING AND 1 PRECEDING) as trans_price_avg_lst3\n",
    "        FROM transactions t\n",
    ")\n",
    "\n",
    "SELECT  t.*, \n",
    "        CASE WHEN cust.income is null then -999 else cust.income end as income\n",
    "        \n",
    "FROM last_three_transactions t\n",
    "INNER JOIN last_transaction lt\n",
    "    ON t.customerID = lt.customerID AND t.transactionID = lt.last_transactionID\n",
    "INNER JOIN customers cust\n",
    "    ON t.customerID = cust.customerID\n",
    "ORDER BY t.customerID\n",
    "LIMIT 10"
   ]
  },
  {
   "cell_type": "markdown",
   "metadata": {},
   "source": [
    "*NOTE:* Both tasks were done in one query. Notice, that `trans_price_avg_lst3` may contain None values, which means that for this customerIDs the last transaction is actually the  first one. That's why we can not calculate average value of three previous transactions, as there are no such. Additional suggestion may be to round values to 2 decimals."
   ]
  },
  {
   "cell_type": "markdown",
   "metadata": {},
   "source": [
    "### Task 3"
   ]
  },
  {
   "cell_type": "markdown",
   "metadata": {},
   "source": [
    "Check if there is a dependency between age and sex in the data – use statistical test if applicable."
   ]
  },
  {
   "cell_type": "markdown",
   "metadata": {},
   "source": [
    "To check the dependancy between two variables we may check correlation between them and in our case plot a distribution of `Age` depending on `Sex`. For simplicity I'll read `customers` table with Pandas."
   ]
  },
  {
   "cell_type": "code",
   "execution_count": 27,
   "metadata": {},
   "outputs": [
    {
     "name": "stdout",
     "output_type": "stream",
     "text": [
      "(500000, 6)\n"
     ]
    },
    {
     "data": {
      "text/html": [
       "<div>\n",
       "<style scoped>\n",
       "    .dataframe tbody tr th:only-of-type {\n",
       "        vertical-align: middle;\n",
       "    }\n",
       "\n",
       "    .dataframe tbody tr th {\n",
       "        vertical-align: top;\n",
       "    }\n",
       "\n",
       "    .dataframe thead th {\n",
       "        text-align: right;\n",
       "    }\n",
       "</style>\n",
       "<table border=\"1\" class=\"dataframe\">\n",
       "  <thead>\n",
       "    <tr style=\"text-align: right;\">\n",
       "      <th></th>\n",
       "      <th>customerID</th>\n",
       "      <th>sex</th>\n",
       "      <th>age</th>\n",
       "      <th>residentialAddress</th>\n",
       "      <th>postalAddress</th>\n",
       "      <th>income</th>\n",
       "    </tr>\n",
       "  </thead>\n",
       "  <tbody>\n",
       "    <tr>\n",
       "      <th>0</th>\n",
       "      <td>1</td>\n",
       "      <td>1</td>\n",
       "      <td>25</td>\n",
       "      <td>28 Irvine Place</td>\n",
       "      <td>28 Irvine Place</td>\n",
       "      <td>NaN</td>\n",
       "    </tr>\n",
       "    <tr>\n",
       "      <th>1</th>\n",
       "      <td>2</td>\n",
       "      <td>1</td>\n",
       "      <td>19</td>\n",
       "      <td>72 Bertha Street</td>\n",
       "      <td>72 Bertha Street</td>\n",
       "      <td>43200.0</td>\n",
       "    </tr>\n",
       "    <tr>\n",
       "      <th>2</th>\n",
       "      <td>3</td>\n",
       "      <td>2</td>\n",
       "      <td>22</td>\n",
       "      <td>63 Ladberry Street</td>\n",
       "      <td>63 Ladberry Street</td>\n",
       "      <td>70200.0</td>\n",
       "    </tr>\n",
       "  </tbody>\n",
       "</table>\n",
       "</div>"
      ],
      "text/plain": [
       "   customerID  sex  age  residentialAddress       postalAddress   income\n",
       "0           1    1   25     28 Irvine Place     28 Irvine Place      NaN\n",
       "1           2    1   19    72 Bertha Street    72 Bertha Street  43200.0\n",
       "2           3    2   22  63 Ladberry Street  63 Ladberry Street  70200.0"
      ]
     },
     "execution_count": 27,
     "metadata": {},
     "output_type": "execute_result"
    }
   ],
   "source": [
    "customers = pd.read_sql_table(\"customers\", con=engine)\n",
    "print(customers.shape)\n",
    "customers.head(3)"
   ]
  },
  {
   "cell_type": "code",
   "execution_count": 29,
   "metadata": {},
   "outputs": [
    {
     "data": {
      "text/plain": [
       "customerID              int64\n",
       "sex                     int64\n",
       "age                     int64\n",
       "residentialAddress     object\n",
       "postalAddress          object\n",
       "income                float64\n",
       "dtype: object"
      ]
     },
     "execution_count": 29,
     "metadata": {},
     "output_type": "execute_result"
    }
   ],
   "source": [
    "# fast data types check\n",
    "customers.dtypes"
   ]
  },
  {
   "cell_type": "code",
   "execution_count": 30,
   "metadata": {},
   "outputs": [
    {
     "data": {
      "text/plain": [
       "customerID               0\n",
       "sex                      0\n",
       "age                      0\n",
       "residentialAddress       0\n",
       "postalAddress            0\n",
       "income                9975\n",
       "dtype: int64"
      ]
     },
     "execution_count": 30,
     "metadata": {},
     "output_type": "execute_result"
    }
   ],
   "source": [
    "# fast missing check\n",
    "customers.isnull().sum()"
   ]
  },
  {
   "cell_type": "code",
   "execution_count": 32,
   "metadata": {},
   "outputs": [
    {
     "data": {
      "text/html": [
       "<div>\n",
       "<style scoped>\n",
       "    .dataframe tbody tr th:only-of-type {\n",
       "        vertical-align: middle;\n",
       "    }\n",
       "\n",
       "    .dataframe tbody tr th {\n",
       "        vertical-align: top;\n",
       "    }\n",
       "\n",
       "    .dataframe thead th {\n",
       "        text-align: right;\n",
       "    }\n",
       "</style>\n",
       "<table border=\"1\" class=\"dataframe\">\n",
       "  <thead>\n",
       "    <tr style=\"text-align: right;\">\n",
       "      <th></th>\n",
       "      <th>age</th>\n",
       "      <th>sex</th>\n",
       "    </tr>\n",
       "  </thead>\n",
       "  <tbody>\n",
       "    <tr>\n",
       "      <th>count</th>\n",
       "      <td>500000.000000</td>\n",
       "      <td>500000.000000</td>\n",
       "    </tr>\n",
       "    <tr>\n",
       "      <th>mean</th>\n",
       "      <td>44.630508</td>\n",
       "      <td>1.150402</td>\n",
       "    </tr>\n",
       "    <tr>\n",
       "      <th>std</th>\n",
       "      <td>16.178283</td>\n",
       "      <td>0.477797</td>\n",
       "    </tr>\n",
       "    <tr>\n",
       "      <th>min</th>\n",
       "      <td>5.000000</td>\n",
       "      <td>0.000000</td>\n",
       "    </tr>\n",
       "    <tr>\n",
       "      <th>25%</th>\n",
       "      <td>27.000000</td>\n",
       "      <td>1.000000</td>\n",
       "    </tr>\n",
       "    <tr>\n",
       "      <th>50%</th>\n",
       "      <td>50.000000</td>\n",
       "      <td>1.000000</td>\n",
       "    </tr>\n",
       "    <tr>\n",
       "      <th>75%</th>\n",
       "      <td>58.000000</td>\n",
       "      <td>1.000000</td>\n",
       "    </tr>\n",
       "    <tr>\n",
       "      <th>max</th>\n",
       "      <td>90.000000</td>\n",
       "      <td>2.000000</td>\n",
       "    </tr>\n",
       "  </tbody>\n",
       "</table>\n",
       "</div>"
      ],
      "text/plain": [
       "                 age            sex\n",
       "count  500000.000000  500000.000000\n",
       "mean       44.630508       1.150402\n",
       "std        16.178283       0.477797\n",
       "min         5.000000       0.000000\n",
       "25%        27.000000       1.000000\n",
       "50%        50.000000       1.000000\n",
       "75%        58.000000       1.000000\n",
       "max        90.000000       2.000000"
      ]
     },
     "execution_count": 32,
     "metadata": {},
     "output_type": "execute_result"
    }
   ],
   "source": [
    "# basic stats\n",
    "customers[[\"age\", \"sex\"]].describe()"
   ]
  },
  {
   "cell_type": "markdown",
   "metadata": {},
   "source": [
    "Correlation seems to be not high."
   ]
  },
  {
   "cell_type": "code",
   "execution_count": 33,
   "metadata": {},
   "outputs": [
    {
     "data": {
      "text/html": [
       "<div>\n",
       "<style scoped>\n",
       "    .dataframe tbody tr th:only-of-type {\n",
       "        vertical-align: middle;\n",
       "    }\n",
       "\n",
       "    .dataframe tbody tr th {\n",
       "        vertical-align: top;\n",
       "    }\n",
       "\n",
       "    .dataframe thead th {\n",
       "        text-align: right;\n",
       "    }\n",
       "</style>\n",
       "<table border=\"1\" class=\"dataframe\">\n",
       "  <thead>\n",
       "    <tr style=\"text-align: right;\">\n",
       "      <th></th>\n",
       "      <th>age</th>\n",
       "      <th>sex</th>\n",
       "    </tr>\n",
       "  </thead>\n",
       "  <tbody>\n",
       "    <tr>\n",
       "      <th>age</th>\n",
       "      <td>1.000000</td>\n",
       "      <td>0.001564</td>\n",
       "    </tr>\n",
       "    <tr>\n",
       "      <th>sex</th>\n",
       "      <td>0.001564</td>\n",
       "      <td>1.000000</td>\n",
       "    </tr>\n",
       "  </tbody>\n",
       "</table>\n",
       "</div>"
      ],
      "text/plain": [
       "          age       sex\n",
       "age  1.000000  0.001564\n",
       "sex  0.001564  1.000000"
      ]
     },
     "execution_count": 33,
     "metadata": {},
     "output_type": "execute_result"
    }
   ],
   "source": [
    "customers[[\"age\", \"sex\"]].corr(method=\"spearman\")"
   ]
  },
  {
   "cell_type": "markdown",
   "metadata": {},
   "source": [
    "As we may see the distribution of `Age` for differenct `Sex` levels is almost the same. So, **seems like there is no dependancy between age and sex in the data.** But, worth noticing, there is some strange gap sowhere in between 20 and 60 years old. For some reason people of average age tend to not use ViaBill services."
   ]
  },
  {
   "cell_type": "code",
   "execution_count": 61,
   "metadata": {},
   "outputs": [
    {
     "data": {
      "image/png": "[encoded data removed]",
      "text/plain": [
       "<Figure size 558.875x500 with 1 Axes>"
      ]
     },
     "metadata": {},
     "output_type": "display_data"
    }
   ],
   "source": [
    "sns.displot(customers, x=\"age\", hue=\"sex\", kind=\"kde\", common_norm=False, palette=sns.color_palette(\"bright\", 3));"
   ]
  }
 ],
 "metadata": {
  "kernelspec": {
   "display_name": "viabill-env",
   "language": "python",
   "name": "viabill-env"
  },
  "language_info": {
   "codemirror_mode": {
    "name": "ipython",
    "version": 3
   },
   "file_extension": ".py",
   "mimetype": "text/x-python",
   "name": "python",
   "nbconvert_exporter": "python",
   "pygments_lexer": "ipython3",
   "version": "3.8.10"
  },
  "vscode": {
   "interpreter": {
    "hash": "eb13fe851d0df1c68d65645803cd1ef002e7b336c66dbc67e9a0bf74686096df"
   }
  }
 },
 "nbformat": 4,
 "nbformat_minor": 4
}
